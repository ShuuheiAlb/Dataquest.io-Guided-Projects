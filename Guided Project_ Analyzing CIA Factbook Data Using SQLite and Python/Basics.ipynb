{
 "cells": [
  {
   "cell_type": "markdown",
   "metadata": {
    "collapsed": true
   },
   "source": [
    "# Guided Project: Analyzing CIA Factbook Data Using SQLite and Python\n",
    "\n",
    "This project aims to analyze a dataset using SQLite fundamental methods, including basic keywords, summary statistics, grouping, and subqueries.\n",
    "\n",
    "The database we use is from the [CIA World Factbook](https://www.cia.gov/library/publications/the-world-factbook/), a compilation of statistics regarding all countries on Earth. Its SQLite version is `factbook.db` which can be downloaded via [this Github repo](https://github.com/factbook/factbook.sql/releases)."
   ]
  },
  {
   "cell_type": "markdown",
   "metadata": {},
   "source": [
    "## 1. Importing\n",
    "\n",
    "The first step is importing the database. We use sqlite3, pandas, and matplotlib modules. The pandas and matplotlib can neatly display and visualize results, leaving a better focus for practicing working in SQL."
   ]
  },
  {
   "cell_type": "code",
   "execution_count": 1,
   "metadata": {
    "collapsed": false
   },
   "outputs": [
    {
     "name": "stdout",
     "output_type": "stream",
     "text": [
      "Factbook.db tables information:\n",
      "    type             name         tbl_name  rootpage  \\\n",
      "0  table  sqlite_sequence  sqlite_sequence         3   \n",
      "1  table            facts            facts        47   \n",
      "\n",
      "                                                 sql  \n",
      "0             CREATE TABLE sqlite_sequence(name,seq)  \n",
      "1  CREATE TABLE \"facts\" (\"id\" INTEGER PRIMARY KEY...  \n"
     ]
    }
   ],
   "source": [
    "import pandas as pd\n",
    "import sqlite3\n",
    "\n",
    "conn = sqlite3.connect(\"factbook.db\")\n",
    "\n",
    "# Returning information on the tables of factbook.db.\n",
    "query_db_info = \"SELECT * FROM sqlite_master WHERE type = \\\"table\\\";\"\n",
    "result_db_info = pd.read_sql_query(query_db_info, conn)\n",
    "print(\"Factbook.db tables information:\")\n",
    "print(result_db_info)"
   ]
  },
  {
   "cell_type": "markdown",
   "metadata": {},
   "source": [
    "From above, we can see that there are two tables in `factbook.db`: `sqllite_sequence` and `facts`. By observation, the table `facts` turns out to be the main table that we will assess in this project.\n",
    "\n",
    "Now, we try to take a brief look at the `facts` table by querying for its first five rows."
   ]
  },
  {
   "cell_type": "code",
   "execution_count": 2,
   "metadata": {
    "collapsed": false
   },
   "outputs": [
    {
     "name": "stdout",
     "output_type": "stream",
     "text": [
      "First 5 rows of `facts` table:\n",
      "   id code         name     area  area_land  area_water  population  \\\n",
      "0   1   af  Afghanistan   652230     652230           0    32564342   \n",
      "1   2   al      Albania    28748      27398        1350     3029278   \n",
      "2   3   ag      Algeria  2381741    2381741           0    39542166   \n",
      "3   4   an      Andorra      468        468           0       85580   \n",
      "4   5   ao       Angola  1246700    1246700           0    19625353   \n",
      "\n",
      "   population_growth  birth_rate  death_rate  migration_rate  \n",
      "0               2.32       38.57       13.89            1.51  \n",
      "1               0.30       12.92        6.58            3.30  \n",
      "2               1.84       23.67        4.31            0.92  \n",
      "3               0.12        8.13        6.96            0.00  \n",
      "4               2.78       38.78       11.49            0.46  \n"
     ]
    }
   ],
   "source": [
    "# Returning first 5 rows of `facts` table.\n",
    "query_2 = \"SELECT * FROM facts LIMIT 5\"\n",
    "result_2 = pd.read_sql_query(query_2, conn)\n",
    "print(\"First 5 rows of `facts` table:\")\n",
    "print(result_2)"
   ]
  },
  {
   "cell_type": "markdown",
   "metadata": {},
   "source": [
    "There are a total of 11 columns in `facts`. Below are the descriptions of some of the columns:\n",
    "1. `name` : The name of the country.\n",
    "2. `population` : The country's population number.\n",
    "3. `population_growth` : Population growth as a percentage.\n",
    "4. `birth_rate` : The number of births a year per 1,000 people.\n",
    "5. `area`: Total area, both land and water.\n",
    "6. `area_land`: Land area, in square kilometers."
   ]
  },
  {
   "cell_type": "markdown",
   "metadata": {},
   "source": [
    "# 2. Calculating Summary Statistics\n",
    "\n",
    "We can count several summary statistics, such as the minimum and maximum of each country's population and population growth. Their associated columns are `population` and `population growth`, respectively."
   ]
  },
  {
   "cell_type": "code",
   "execution_count": 3,
   "metadata": {
    "collapsed": false
   },
   "outputs": [
    {
     "name": "stdout",
     "output_type": "stream",
     "text": [
      "   MIN(population)\n",
      "0                0\n"
     ]
    }
   ],
   "source": [
    "query_3 = \"SELECT MIN(population) FROM facts\"\n",
    "result_3 = pd.read_sql_query(query_3, conn)\n",
    "print(result_3)"
   ]
  },
  {
   "cell_type": "code",
   "execution_count": 4,
   "metadata": {
    "collapsed": false
   },
   "outputs": [
    {
     "name": "stdout",
     "output_type": "stream",
     "text": [
      "   MAX(population)\n",
      "0       7256490011\n"
     ]
    }
   ],
   "source": [
    "query_4 = \"SELECT MAX(population) FROM facts\"\n",
    "result_4 = pd.read_sql_query(query_4, conn)\n",
    "print(result_4)"
   ]
  },
  {
   "cell_type": "code",
   "execution_count": 5,
   "metadata": {
    "collapsed": false
   },
   "outputs": [
    {
     "name": "stdout",
     "output_type": "stream",
     "text": [
      "   MIN(population_growth)\n",
      "0                     0.0\n"
     ]
    }
   ],
   "source": [
    "query_5 = \"SELECT MIN(population_growth) FROM facts\"\n",
    "result_5 = pd.read_sql_query(query_5, conn)\n",
    "print(result_5)"
   ]
  },
  {
   "cell_type": "code",
   "execution_count": 6,
   "metadata": {
    "collapsed": false
   },
   "outputs": [
    {
     "name": "stdout",
     "output_type": "stream",
     "text": [
      "   MAX(population_growth)\n",
      "0                    4.02\n"
     ]
    }
   ],
   "source": [
    "query_6 = \"SELECT MAX(population_growth) FROM facts\"\n",
    "result_6 = pd.read_sql_query(query_6, conn)\n",
    "print(result_6)"
   ]
  },
  {
   "cell_type": "markdown",
   "metadata": {
    "collapsed": false
   },
   "source": [
    "Based on above queries' executions, there is a country with a population of `min(population) = 0`, as well as a country with a population of `max(population) = 7256490011` (more than 7 billions people). We can find out which country(s) have this many populations."
   ]
  },
  {
   "cell_type": "code",
   "execution_count": 7,
   "metadata": {
    "collapsed": false
   },
   "outputs": [
    {
     "name": "stdout",
     "output_type": "stream",
     "text": [
      "Country(s) with minimum populations:\n",
      "         name\n",
      "0  Antarctica\n"
     ]
    }
   ],
   "source": [
    "# Finding country(s) with minimal populations\n",
    "query_7 = '''\n",
    "SELECT name\n",
    "FROM facts\n",
    "WHERE population ==\n",
    "''' + str(result_3.iloc[0,0]) # result_3 bears the value of min population\n",
    "result_7 = pd.read_sql_query(query_7, conn)\n",
    "print(\"Country(s) with minimum populations:\")\n",
    "print(result_7)"
   ]
  },
  {
   "cell_type": "code",
   "execution_count": 8,
   "metadata": {
    "collapsed": false
   },
   "outputs": [
    {
     "name": "stdout",
     "output_type": "stream",
     "text": [
      "Country(s) with maximum populations:\n",
      "    name\n",
      "0  World\n"
     ]
    }
   ],
   "source": [
    "# Finding country(s) with maximal populations\n",
    "query_8 = '''\n",
    "SELECT name\n",
    "FROM facts\n",
    "WHERE population ==\n",
    "''' + str(result_4.iloc[0,0]) # result_4 bears the value of max population\n",
    "result_8 = pd.read_sql_query(query_8, conn)\n",
    "print(\"Country(s) with maximum populations:\")\n",
    "print(result_8)"
   ]
  },
  {
   "cell_type": "markdown",
   "metadata": {},
   "source": [
    "From the results, we can see that `\"Antartica\"` is the _country_ with 0 population, and `\"World\"` is the _country_ with around 7.2 billions people. This matches the fact that there is no citizens in Antartica continent and there is approximately 7 billions people on Earth. However, these two are not official countries, so we will ignore these two rows in the next queries."
   ]
  },
  {
   "cell_type": "markdown",
   "metadata": {},
   "source": [
    "## 3.1 Data Cleaning\n",
    "\n",
    "We want to visualize four variables: `population`, `population_growth`, `birth_rate`, and `death_rate`. We start with a query that returns these four values for all rows except for countries `\"Antartica\"` and `\"World\"`."
   ]
  },
  {
   "cell_type": "code",
   "execution_count": 9,
   "metadata": {
    "collapsed": false
   },
   "outputs": [
    {
     "name": "stdout",
     "output_type": "stream",
     "text": [
      "      id   population  population_growth  birth_rate  death_rate\n",
      "0      1   32564342.0               2.32       38.57       13.89\n",
      "1      2    3029278.0               0.30       12.92        6.58\n",
      "2      3   39542166.0               1.84       23.67        4.31\n",
      "3      4      85580.0               0.12        8.13        6.96\n",
      "4      5   19625353.0               2.78       38.78       11.49\n",
      "5      6      92436.0               1.24       15.85        5.69\n",
      "6      7   43431886.0               0.93       16.64        7.33\n",
      "7      8    3056382.0               0.15       13.61        9.34\n",
      "8      9   22751014.0               1.07       12.15        7.14\n",
      "9     10    8665550.0               0.55        9.41        9.42\n",
      "10    11    9780780.0               0.96       16.64        7.07\n",
      "11    12     324597.0               0.85       15.50        7.05\n",
      "12    13    1346613.0               2.41       13.66        2.69\n",
      "13    14  168957745.0               1.60       21.14        5.61\n",
      "14    15     290604.0               0.31       11.87        8.44\n",
      "15    16    9589689.0               0.20       10.70       13.36\n",
      "16    17   11323973.0               0.76       11.41        9.63\n",
      "17    18     347369.0               1.87       24.68        5.97\n",
      "18    19   10448647.0               2.78       36.02        8.21\n",
      "19    20     741919.0               1.11       17.78        6.69\n",
      "20    21   10800882.0               1.56       22.76        6.52\n",
      "21    22    3867055.0               0.13        8.87        9.75\n",
      "22    23    2182719.0               1.21       20.96       13.39\n",
      "23    24  204259812.0               0.77       14.46        6.58\n",
      "24    25     429646.0               1.62       17.32        3.52\n",
      "25    26    7186893.0               0.58        8.92       14.44\n",
      "26    27   18931686.0               3.03       42.03       11.72\n",
      "27    28   56320206.0               1.01       18.39        7.96\n",
      "28    29   10742276.0               3.28       42.01        9.27\n",
      "29    30   15708756.0               1.58       23.83        7.68\n",
      "..   ...          ...                ...         ...         ...\n",
      "230  231      15700.0                NaN         NaN         NaN\n",
      "231  232       3361.0               0.01       10.90        4.90\n",
      "232  233      29258.0               0.24       14.08        8.37\n",
      "233  234      66080.0               0.34        9.84        8.78\n",
      "234  235      97294.0               0.80       11.91        7.68\n",
      "235  236      87545.0               0.76       11.10       10.06\n",
      "236  237       5241.0               0.50       11.26        6.30\n",
      "237  238         48.0               0.00         NaN         NaN\n",
      "238  239       7795.0               0.24        9.88        7.44\n",
      "239  240          NaN                NaN         NaN         NaN\n",
      "240  241      50280.0               2.30       16.13        3.10\n",
      "241  242      54343.0               0.30       22.89        4.75\n",
      "242  243     161785.0               0.54       16.82        5.12\n",
      "243  244          NaN                NaN         NaN         NaN\n",
      "244  245      52344.0               2.18       18.32        3.71\n",
      "245  246    3598357.0               0.60       10.86        8.67\n",
      "246  247     103574.0               0.59       10.31        8.54\n",
      "247  248          NaN                NaN         NaN         NaN\n",
      "248  249          NaN                NaN         NaN         NaN\n",
      "249  250          0.0                NaN         NaN         NaN\n",
      "250  251    1869055.0               2.81       31.11        3.04\n",
      "251  252          NaN                NaN         NaN         NaN\n",
      "252  253          NaN                NaN         NaN         NaN\n",
      "253  254    2785366.0               1.95       22.99        3.50\n",
      "254  255     570866.0               2.82       30.24        8.34\n",
      "255  256          NaN                NaN         NaN         NaN\n",
      "256  257          NaN                NaN         NaN         NaN\n",
      "257  258          NaN                NaN         NaN         NaN\n",
      "258  259          NaN                NaN         NaN         NaN\n",
      "259  260          NaN                NaN         NaN         NaN\n",
      "\n",
      "[260 rows x 5 columns]\n"
     ]
    }
   ],
   "source": [
    "# Create `facts` with column id and four variables\n",
    "#    without Antartica and World.\n",
    "query_9 = '''\n",
    "SELECT\n",
    "    id, -- This is very useful for JOIN, etc\n",
    "    population,\n",
    "    population_growth,\n",
    "    birth_rate,\n",
    "    death_rate\n",
    "FROM facts\n",
    "WHERE name NOT IN (\"Antartica\", \"World\")\n",
    "'''\n",
    "result_9 = pd.read_sql_query(query_9, conn)\n",
    "print(result_9)"
   ]
  },
  {
   "cell_type": "markdown",
   "metadata": {},
   "source": [
    "Looking the initial result, there are some rows that have at least one missing value. We will try to examine the corresponding rows with missing values. My first instinct was to parse `result_9` using boolean mask vectorization."
   ]
  },
  {
   "cell_type": "code",
   "execution_count": 10,
   "metadata": {
    "collapsed": true
   },
   "outputs": [],
   "source": [
    "result_9_na = result_9[result_9.isnull().any(axis = 1)]"
   ]
  },
  {
   "cell_type": "markdown",
   "metadata": {},
   "source": [
    "However, I remember that one consequence of our projact aim is to manipulate data using SQLite, instead of using pandas. Therefore we will employ subqueries, using string concatenation on `query_` variables."
   ]
  },
  {
   "cell_type": "code",
   "execution_count": 11,
   "metadata": {
    "collapsed": false
   },
   "outputs": [
    {
     "name": "stdout",
     "output_type": "stream",
     "text": [
      "     id  population  population_growth birth_rate death_rate\n",
      "0    92   1870981.0                NaN       None       None\n",
      "1   190       842.0               0.00       None       None\n",
      "2   198         NaN                NaN       None       None\n",
      "3   199      1530.0               1.11       None       None\n",
      "4   200       596.0               0.00       None       None\n",
      "5   201         NaN                NaN       None       None\n",
      "6   202         NaN                NaN       None       None\n",
      "7   203      2210.0               0.01       None       None\n",
      "8   208         NaN                NaN       None       None\n",
      "9   210         NaN                NaN       None       None\n",
      "10  212      7237.0                NaN       None       None\n",
      "11  213     31754.0                NaN       None       None\n",
      "12  220      1190.0               0.03       None       None\n",
      "13  221      1337.0               0.01       None       None\n",
      "14  222         NaN                NaN       None       None\n",
      "15  223         NaN                NaN       None       None\n",
      "16  224      1872.0               0.03       None       None\n",
      "17  225     15700.0                NaN       None       None\n",
      "18  228         NaN                NaN       None       None\n",
      "19  231     15700.0                NaN       None       None\n",
      "20  238        48.0               0.00       None       None\n",
      "21  240         NaN                NaN       None       None\n",
      "22  244         NaN                NaN       None       None\n",
      "23  248         NaN                NaN       None       None\n",
      "24  249         NaN                NaN       None       None\n",
      "25  250         0.0                NaN       None       None\n",
      "26  252         NaN                NaN       None       None\n",
      "27  253         NaN                NaN       None       None\n",
      "28  256         NaN                NaN       None       None\n",
      "29  257         NaN                NaN       None       None\n",
      "30  258         NaN                NaN       None       None\n",
      "31  259         NaN                NaN       None       None\n",
      "32  260         NaN                NaN       None       None\n"
     ]
    }
   ],
   "source": [
    "# Select rows of result_9 with missing values.\n",
    "query_9_na = '''\n",
    "SELECT *\n",
    "FROM (''' + query_9 + ''')\n",
    "WHERE population IS NULL\n",
    "    OR population_growth IS NULL\n",
    "    OR birth_rate IS NULL\n",
    "    OR death_rate IS NULL\n",
    "'''\n",
    "result_9_na = pd.read_sql_query(query_9_na, conn)\n",
    "print(result_9_na)"
   ]
  },
  {
   "cell_type": "markdown",
   "metadata": {},
   "source": [
    "Notice that every row that has a missing value also has its `birth_rate` and `death_rate` missing. Since we cannot visualize any row with a missing value, and since we cannot predict `birth_rate` nor `death_rate` based on existing knowledge, we should delete these rows.\n",
    "\n",
    "We store the new table as `result_9_revised`."
   ]
  },
  {
   "cell_type": "code",
   "execution_count": 12,
   "metadata": {
    "collapsed": false
   },
   "outputs": [
    {
     "name": "stdout",
     "output_type": "stream",
     "text": [
      "Result_9 length:  260\n",
      "Result_9_revised length:  227\n"
     ]
    }
   ],
   "source": [
    "# Crosscheck\n",
    "print(\"Result_9 length: \", len(result_9))\n",
    "query_9_revised = '''\n",
    "SELECT *\n",
    "FROM (''' + query_9 + ''')\n",
    "WHERE id NOT IN (\n",
    "    SELECT id\n",
    "    FROM (''' + query_9_na + ''')\n",
    ")\n",
    "'''\n",
    "result_9_revised = pd.read_sql(query_9_revised, conn)\n",
    "print(\"Result_9_revised length: \", len(result_9_revised))"
   ]
  },
  {
   "cell_type": "markdown",
   "metadata": {},
   "source": [
    "## 3.2 Generating Histograms\n",
    "\n",
    "Now we are ready to build a 2 x 2 grid of histograms. We will import `matplotlib.pyplot` and `seaborn` (for a better style)."
   ]
  },
  {
   "cell_type": "code",
   "execution_count": 13,
   "metadata": {
    "collapsed": false
   },
   "outputs": [
    {
     "data": {
      "image/png": "[encoded data removed]",
      "text/plain": [
       "<matplotlib.figure.Figure at 0x7fbe5324b2e8>"
      ]
     },
     "metadata": {},
     "output_type": "display_data"
    }
   ],
   "source": [
    "# Rendering the plots.\n",
    "%matplotlib inline\n",
    "\n",
    "import matplotlib.pyplot as plt\n",
    "import seaborn as sns\n",
    "\n",
    "# Rename the cleaned result_9 as facts_cleaned, for easiness.\n",
    "facts_cleaned = result_9_revised\n",
    "\n",
    "col_labels_list = [\"population\", \"population_growth\", \"birth_rate\", \"death_rate\"]\n",
    "bins_list = [150, 30, 30, 30]\n",
    "# The histogram for population has some outliers such as India and China.\n",
    "#   For this purpose, the maximum x limit for population is set to 2*10^8\n",
    "max_xlim_list = [2 * 10**8, 4.5, 50, 16]\n",
    "\n",
    "fig, ax = plt.subplots(2, 2, figsize = (12, 12))\n",
    "ax = ax.flatten()\n",
    "for i in range(len(col_labels_list)):\n",
    "    col = col_labels_list[i]\n",
    "    ax[i].hist(facts_cleaned[col], bins = bins_list[i])\n",
    "    ax[i].set_title(col)\n",
    "    ax[i].set_xlim(0, max_xlim_list[i])\n",
    "\n",
    "# Set style with seaborn as white\n",
    "sns.set_style(\"white\")\n",
    "plt.show()"
   ]
  },
  {
   "cell_type": "markdown",
   "metadata": {
    "collapsed": true
   },
   "source": [
    "## 4. Finding Countries with Highest Population Density\n",
    "\n",
    "We first build a query called `query_f`, which returns a table `f` that contains country, population density, and ratio of areas of water versus areas of land. Afterwards, we can refer to this query to sort the table `facts` based on each population density and water-land ratio."
   ]
  },
  {
   "cell_type": "code",
   "execution_count": 14,
   "metadata": {
    "collapsed": false
   },
   "outputs": [],
   "source": [
    "query_f = '''\n",
    "SELECT\n",
    "    name,\n",
    "    population * 1.0 / area_land AS ppl_density,\n",
    "    area_water * 1.0 / area_land AS water_land_ratio\n",
    "FROM facts\n",
    "'''"
   ]
  },
  {
   "cell_type": "markdown",
   "metadata": {},
   "source": [
    "Now we write the query that sorts `facts` based on population density:"
   ]
  },
  {
   "cell_type": "code",
   "execution_count": 15,
   "metadata": {
    "collapsed": false
   },
   "outputs": [
    {
     "name": "stdout",
     "output_type": "stream",
     "text": [
      "         name   ppl_density\n",
      "0       Macau  21168.964286\n",
      "1      Monaco  15267.500000\n",
      "2   Singapore   8259.784571\n",
      "3   Hong Kong   6655.271202\n",
      "4  Gaza Strip   5191.819444\n",
      "5   Gibraltar   4876.333333\n",
      "6     Bahrain   1771.859211\n",
      "7    Maldives   1319.640940\n",
      "8       Malta   1310.015823\n",
      "9     Bermuda   1299.925926\n"
     ]
    }
   ],
   "source": [
    "# Sort based on people_density\n",
    "query_10 = '''\n",
    "WITH f AS (''' + query_f + ''')\n",
    "SELECT\n",
    "    name,\n",
    "    ppl_density\n",
    "FROM f\n",
    "ORDER BY ppl_density DESC\n",
    "'''\n",
    "result_10 = pd.read_sql_query(query_10, conn)\n",
    "print(result_10.head(10))"
   ]
  },
  {
   "cell_type": "markdown",
   "metadata": {
    "collapsed": true
   },
   "source": [
    "It can be seen that the countries with highest population density is Macau, Monaco, Singapore, Hong Kong, and Gaza Strip. The result matches the one [from Wikipedia](https://simple.wikipedia.org/wiki/List_of_countries_by_population_density)."
   ]
  },
  {
   "cell_type": "markdown",
   "metadata": {},
   "source": [
    "We now make a similar query to find out which countries have the highest ratios of water to land."
   ]
  },
  {
   "cell_type": "code",
   "execution_count": 16,
   "metadata": {
    "collapsed": false
   },
   "outputs": [
    {
     "name": "stdout",
     "output_type": "stream",
     "text": [
      "                             name  water_land_ratio\n",
      "0  British Indian Ocean Territory        905.666667\n",
      "1                  Virgin Islands          4.520231\n",
      "2                     Puerto Rico          0.554791\n",
      "3                    Bahamas, The          0.386613\n",
      "4                   Guinea-Bissau          0.284673\n",
      "5                          Malawi          0.259396\n",
      "6                     Netherlands          0.225710\n",
      "7                          Uganda          0.222922\n",
      "8                         Eritrea          0.164356\n",
      "9                         Liberia          0.156240\n"
     ]
    }
   ],
   "source": [
    "# Sort based on water_land_ratio\n",
    "query_11 = '''\n",
    "WITH f AS (''' + query_f + ''')\n",
    "SELECT\n",
    "    name,\n",
    "    water_land_ratio\n",
    "FROM f\n",
    "ORDER BY water_land_ratio DESC\n",
    "'''\n",
    "result_11 = pd.read_sql_query(query_11, conn)\n",
    "print(result_11.head(10))"
   ]
  },
  {
   "cell_type": "markdown",
   "metadata": {},
   "source": [
    "From here, we can conclude that\n",
    "1. The countries with highest ratios of water to land are British Indian Ocean Territory (905.67 : 1), followed by Virgin Islands (4.52 : 1), Puerto Rico (0.55 : 1), Bahamas (0.39 : 1), and Guinea-Bissau (0.28 : 1).\n",
    "2. By definition, a country has more water than land if and only if `water_land_ratio > 1`. Therefore the only countries owning more water than land are British Indian Ocean Territory and Virgin Islands."
   ]
  },
  {
   "cell_type": "markdown",
   "metadata": {},
   "source": [
    "## 5. Conclusion"
   ]
  },
  {
   "cell_type": "code",
   "execution_count": null,
   "metadata": {
    "collapsed": true
   },
   "outputs": [],
   "source": []
  }
 ],
 "metadata": {
  "kernelspec": {
   "display_name": "Python 3",
   "language": "python",
   "name": "python3"
  },
  "language_info": {
   "codemirror_mode": {
    "name": "ipython",
    "version": 3
   },
   "file_extension": ".py",
   "mimetype": "text/x-python",
   "name": "python",
   "nbconvert_exporter": "python",
   "pygments_lexer": "ipython3",
   "version": "3.4.3"
  }
 },
 "nbformat": 4,
 "nbformat_minor": 2
}
