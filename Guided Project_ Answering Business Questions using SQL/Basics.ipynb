{
 "cells": [
  {
   "cell_type": "markdown",
   "metadata": {
    "collapsed": true
   },
   "source": [
    "# Guided Project: Answering Business Questions using SQL\n",
    "\n",
    "The goal is to apply SQL skills to answer business questions. For every task, we need to:\n",
    "1. Write a SQL query to extract the relevant data\n",
    "2. Create plots where necessary to visualize the data\n",
    "3. Write a short paragraph, draw conclusions and explain data and visualizations.\n",
    "\n",
    "The database we look at is [`chinook.db`](https://github.com/lerocha/chinook-database), a sample database available for various Database Management Systems using SQL. The image of the database schema, provided by Dataquest.io, can be found [here](https://s3.amazonaws.com/dq-content/191/chinook-schema.svg).\n",
    "\n",
    "As an anticipation of database locking during the project, a file `chinook-unmodified.db` is also stored locally."
   ]
  },
  {
   "cell_type": "markdown",
   "metadata": {},
   "source": [
    "## 0. Defining Query Functions\n",
    "\n",
    "We first define several query functions to run a SQL query related to the `chinook` database and return a Pandas' DataFrame, to run a SQL command related to `chinook.db`, as well as to show all data sets that are in the type `table` or `view`."
   ]
  },
  {
   "cell_type": "code",
   "execution_count": 1,
   "metadata": {
    "collapsed": false
   },
   "outputs": [
    {
     "data": {
      "text/html": [
       "<div>\n",
       "<style scoped>\n",
       "    .dataframe tbody tr th:only-of-type {\n",
       "        vertical-align: middle;\n",
       "    }\n",
       "\n",
       "    .dataframe tbody tr th {\n",
       "        vertical-align: top;\n",
       "    }\n",
       "\n",
       "    .dataframe thead th {\n",
       "        text-align: right;\n",
       "    }\n",
       "</style>\n",
       "<table border=\"1\" class=\"dataframe\">\n",
       "  <thead>\n",
       "    <tr style=\"text-align: right;\">\n",
       "      <th></th>\n",
       "      <th>name</th>\n",
       "      <th>type</th>\n",
       "    </tr>\n",
       "  </thead>\n",
       "  <tbody>\n",
       "    <tr>\n",
       "      <th>0</th>\n",
       "      <td>album</td>\n",
       "      <td>table</td>\n",
       "    </tr>\n",
       "    <tr>\n",
       "      <th>1</th>\n",
       "      <td>artist</td>\n",
       "      <td>table</td>\n",
       "    </tr>\n",
       "    <tr>\n",
       "      <th>2</th>\n",
       "      <td>customer</td>\n",
       "      <td>table</td>\n",
       "    </tr>\n",
       "    <tr>\n",
       "      <th>3</th>\n",
       "      <td>employee</td>\n",
       "      <td>table</td>\n",
       "    </tr>\n",
       "    <tr>\n",
       "      <th>4</th>\n",
       "      <td>genre</td>\n",
       "      <td>table</td>\n",
       "    </tr>\n",
       "    <tr>\n",
       "      <th>5</th>\n",
       "      <td>invoice</td>\n",
       "      <td>table</td>\n",
       "    </tr>\n",
       "    <tr>\n",
       "      <th>6</th>\n",
       "      <td>invoice_line</td>\n",
       "      <td>table</td>\n",
       "    </tr>\n",
       "    <tr>\n",
       "      <th>7</th>\n",
       "      <td>media_type</td>\n",
       "      <td>table</td>\n",
       "    </tr>\n",
       "    <tr>\n",
       "      <th>8</th>\n",
       "      <td>playlist</td>\n",
       "      <td>table</td>\n",
       "    </tr>\n",
       "    <tr>\n",
       "      <th>9</th>\n",
       "      <td>playlist_track</td>\n",
       "      <td>table</td>\n",
       "    </tr>\n",
       "    <tr>\n",
       "      <th>10</th>\n",
       "      <td>track</td>\n",
       "      <td>table</td>\n",
       "    </tr>\n",
       "  </tbody>\n",
       "</table>\n",
       "</div>"
      ],
      "text/plain": [
       "              name   type\n",
       "0            album  table\n",
       "1           artist  table\n",
       "2         customer  table\n",
       "3         employee  table\n",
       "4            genre  table\n",
       "5          invoice  table\n",
       "6     invoice_line  table\n",
       "7       media_type  table\n",
       "8         playlist  table\n",
       "9   playlist_track  table\n",
       "10           track  table"
      ]
     },
     "execution_count": 1,
     "metadata": {},
     "output_type": "execute_result"
    }
   ],
   "source": [
    "%matplotlib inline\n",
    "\n",
    "import numpy as np\n",
    "import pandas as pd\n",
    "import sqlite3\n",
    "import matplotlib.pyplot as plt\n",
    "import seaborn as sns\n",
    "\n",
    "def run_query(q):\n",
    "    with sqlite3.connect(\"chinook.db\") as conn:\n",
    "        return pd.read_sql(q, conn)\n",
    "\n",
    "def run_command(command):\n",
    "    with sqlite3.connect(\"chinook.db\") as conn:\n",
    "        conn.isolation_level = None # Autocommit any changes (SOON).\n",
    "        conn.execute(command)\n",
    "\n",
    "def show_tables():\n",
    "    q = '''\n",
    "    SELECT\n",
    "        name,\n",
    "        type\n",
    "    FROM sqlite_master\n",
    "    WHERE type IN (\"table\", \"view\")\n",
    "    '''\n",
    "    return run_query(q)\n",
    "\n",
    "show_tables()"
   ]
  },
  {
   "cell_type": "markdown",
   "metadata": {},
   "source": [
    "We can see that there are ten tables in `chinook.db`, all of which can be seen from [this schema](https://s3.amazonaws.com/dq-content/191/chinook-schema.svg)."
   ]
  },
  {
   "cell_type": "markdown",
   "metadata": {},
   "source": [
    "## 1. Business Question: Finding Out Most Sold-out Genres in USA\n",
    "\n",
    "To find out the most sold-out genres in USA, we create two SQL queries `q1a` and `q1b`.\n",
    "\n",
    "The first query `q1a` mainly joins the table `invoice_line` (which has a role similar to \"smallest part\", symbolized by its primary key not being contained in any other tables, see the schema) with the tables) `invoice`, `track`, and `genre`. It then selects USA as the corresponding billing country, and counts the number of track quantities bought for each genre. The query returns song genres along with its number of tracks.\n",
    "\n",
    "The second query `q1b`sorts the table produced by `q1a` based on the track number and adds a column of track number percentages.\n",
    "\n",
    "We then execute the query `q1b` and plot the DataFrame result using `matplotlib.pyplot`."
   ]
  },
  {
   "cell_type": "code",
   "execution_count": 2,
   "metadata": {
    "collapsed": false
   },
   "outputs": [
    {
     "name": "stdout",
     "output_type": "stream",
     "text": [
      "                genre  number_of_tracks  percentage_of_total_tracks\n",
      "0                Rock               561                   53.377735\n",
      "1  Alternative & Punk               130                   12.369172\n",
      "2               Metal               124                   11.798287\n",
      "3            R&B/Soul                53                    5.042816\n",
      "4               Blues                36                    3.425309\n"
     ]
    },
    {
     "data": {
      "image/png": "[encoded data removed]",
      "text/plain": [
       "<matplotlib.figure.Figure at 0x7f503619eef0>"
      ]
     },
     "metadata": {},
     "output_type": "display_data"
    }
   ],
   "source": [
    "q1a = '''\n",
    "SELECT\n",
    "    g.name AS genre,\n",
    "    SUM(il.quantity) AS number_of_tracks\n",
    "FROM invoice i\n",
    "JOIN invoice_line il\n",
    "    ON i.invoice_id == il.invoice_id\n",
    "    AND i.billing_country == \"USA\"\n",
    "JOIN track t ON il.track_id == t.track_id\n",
    "JOIN genre g ON t.genre_id == g.genre_id\n",
    "GROUP BY g.name\n",
    "'''\n",
    "\n",
    "q1b = '''\n",
    "WITH gnt AS (''' + q1a + ''')\n",
    "SELECT\n",
    "    *,\n",
    "    number_of_tracks * 100.0 / (\n",
    "        SELECT SUM(number_of_tracks) FROM gnt\n",
    "    ) AS percentage_of_total_tracks\n",
    "FROM gnt\n",
    "ORDER BY number_of_tracks DESC\n",
    "'''\n",
    "\n",
    "genre_num_track = run_query(q1b)\n",
    "print(genre_num_track.head())\n",
    "\n",
    "# Plot the result.\n",
    "fig, ax = plt.subplots(figsize = (12, 12))\n",
    "genres = genre_num_track[\"genre\"] # For easiness\n",
    "bar_positions = 2*np.arange(len(genres)) + 2.25\n",
    "bar_heights = genre_num_track[\"percentage_of_total_tracks\"]\n",
    "ax.bar(bar_positions, bar_heights, width = 1.5)\n",
    "ax.set_xticks(range(3, 38, 2))\n",
    "ax.set_xlim(0, 40)\n",
    "ax.set_xticklabels(list(genres), rotation = 90)\n",
    "ax.set_title(\"Most Popular Genres\")\n",
    "plt.show()"
   ]
  },
  {
   "cell_type": "markdown",
   "metadata": {
    "collapsed": true
   },
   "source": [
    "Based on the bar graph, the three music genres that has the highest number of track sales are Rock, Alternative & Punk, and Metal.\n",
    "\n",
    "Furthermore, we can make a recommendation for the three artists whose albums should be purchased for the store, based on sales of tracks from their genres. We create a third query to select the artist with the largest number of tracks for each genre Rock, Alternative & Punk and Metal."
   ]
  },
  {
   "cell_type": "code",
   "execution_count": 3,
   "metadata": {
    "collapsed": false
   },
   "outputs": [
    {
     "name": "stdout",
     "output_type": "stream",
     "text": [
      "                genre         artist  number_of_tracks\n",
      "0  Alternative & Punk      Green Day                32\n",
      "1  Alternative & Punk         R.E.M.                32\n",
      "2               Metal  Black Sabbath                24\n",
      "3                Rock      Van Halen                43\n"
     ]
    }
   ],
   "source": [
    "q1c = '''\n",
    "SELECT\n",
    "    g.name AS genre,\n",
    "    ar.name AS artist,\n",
    "    SUM(il.quantity) AS number_of_tracks\n",
    "FROM invoice i\n",
    "JOIN invoice_line il\n",
    "    ON i.invoice_id == il.invoice_id\n",
    "    AND i.billing_country == \"USA\"\n",
    "JOIN track t ON il.track_id == t.track_id\n",
    "JOIN genre g ON t.genre_id == g.genre_id\n",
    "JOIN album a ON t.album_id == a.album_id\n",
    "JOIN artist ar ON a.artist_id == ar.artist_id\n",
    "WHERE g.name IN (\"Rock\", \"Alternative & Punk\", \"Metal\")\n",
    "GROUP BY g.name, ar.name, ar.artist_id\n",
    "'''\n",
    "\n",
    "q1d = '''\n",
    "SELECT\n",
    "    genre,\n",
    "    MAX(number_of_tracks) AS max_num_of_tracks\n",
    "FROM (''' + q1c + ''')\n",
    "GROUP BY genre\n",
    "'''\n",
    "\n",
    "q1e = '''\n",
    "WITH gar AS (''' + q1c + '''),\n",
    "    gmaxtr AS (''' + q1d + ''')\n",
    "SELECT\n",
    "    gar.*\n",
    "FROM gar\n",
    "JOIN gmaxtr ON gar.genre == gmaxtr.genre\n",
    "WHERE gar.number_of_tracks == gmaxtr.max_num_of_tracks\n",
    "'''\n",
    "\n",
    "three_top_genres_artist_reps = run_query(q1e)\n",
    "print(three_top_genres_artist_reps)"
   ]
  },
  {
   "cell_type": "markdown",
   "metadata": {},
   "source": [
    "From this, we can conclude that the suggested representative artist of Rock is Van Halen, and the suggested representative artist of Metal is Black Sabbath. Meanwhile there are two artists to recommend for Alternative & Punk genre: Green Day and R.E.M."
   ]
  },
  {
   "cell_type": "markdown",
   "metadata": {},
   "source": [
    "## 2. Business Question: Analyzing the Customer Purchases of Sales Support Agents (SSA)\n",
    "\n",
    "We create a SQL query for analyzing which Sales Support Agents (SSA) performs the best and the worst."
   ]
  },
  {
   "cell_type": "code",
   "execution_count": 4,
   "metadata": {
    "collapsed": false
   },
   "outputs": [
    {
     "name": "stdout",
     "output_type": "stream",
     "text": [
      "   employee_id  employee_name            hire_date  num_of_customers  \\\n",
      "0            3   Jane Peacock  2017-04-01 00:00:00                21   \n",
      "1            4  Margaret Park  2017-05-03 00:00:00                20   \n",
      "2            5  Steve Johnson  2017-10-17 00:00:00                18   \n",
      "\n",
      "   num_of_transactions  total_sales  \n",
      "0                  212      1731.51  \n",
      "1                  214      1584.00  \n",
      "2                  188      1393.92  \n"
     ]
    }
   ],
   "source": [
    "q2 = '''\n",
    "SELECT\n",
    "    e.employee_id,\n",
    "    e.first_name || \" \" || e.last_name AS employee_name,\n",
    "    e.hire_date,\n",
    "    COUNT(DISTINCT(c.customer_id)) AS num_of_customers,\n",
    "    COUNT(i.invoice_id) AS num_of_transactions,\n",
    "    SUM(i.total) AS total_sales\n",
    "FROM employee e\n",
    "LEFT JOIN customer c ON e.employee_id == c.support_rep_id\n",
    "JOIN invoice i ON c.customer_id == i.customer_id\n",
    "WHERE e.title == \"Sales Support Agent\"\n",
    "GROUP BY 1, 2, 3\n",
    "ORDER BY total_sales DESC\n",
    "'''\n",
    "\n",
    "ssa_sales = run_query(q2)\n",
    "print(ssa_sales)"
   ]
  },
  {
   "cell_type": "markdown",
   "metadata": {},
   "source": [
    "There are only three SSAs in `chinook.db`. Notice that the `total_sales` variance seems to be related with how long they have worked: the earlier they were hired, the larger their sales number is."
   ]
  },
  {
   "cell_type": "markdown",
   "metadata": {},
   "source": [
    "It is more appropriate to see the average sales per day (or per year) each SSA make. I was initially thinking of assuming the current date of measurement as the date `chinook.db` was first posted on Github (i.e. on May 28, 2017). However, one of the SSAs has a hire date later than this date. I henceforth decided to skip this part."
   ]
  },
  {
   "cell_type": "markdown",
   "metadata": {},
   "source": [
    "## 3. Business Question: Analyzing the Customer Purchases Based on Countries\n",
    "\n",
    "We first group the data set by the country, then make the columns reflecting total sales, total number of customers, and the number of total order.\n",
    "\n",
    "We then assign another grouping based on whether there is just one purchase from the corresponding country, and assign the aggregate variables of sales average and order average."
   ]
  },
  {
   "cell_type": "code",
   "execution_count": 5,
   "metadata": {
    "collapsed": false
   },
   "outputs": [
    {
     "name": "stdout",
     "output_type": "stream",
     "text": [
      "           country  tot_sales  tot_customers  tot_order  \\\n",
      "0              USA    1040.49             13        131   \n",
      "1           Canada     535.59              8         76   \n",
      "2           Brazil     427.68              5         61   \n",
      "3           France     389.07              5         50   \n",
      "4          Germany     334.62              4         41   \n",
      "5   Czech Republic     273.24              2         30   \n",
      "6   United Kingdom     245.52              3         28   \n",
      "7         Portugal     185.13              2         29   \n",
      "8            India     183.15              2         21   \n",
      "9          Ireland     114.84              1         13   \n",
      "10           Spain      98.01              1         11   \n",
      "11           Chile      97.02              1         13   \n",
      "12       Australia      81.18              1         10   \n",
      "13         Finland      79.20              1         11   \n",
      "14         Hungary      78.21              1         10   \n",
      "15          Poland      76.23              1         10   \n",
      "16          Sweden      75.24              1         10   \n",
      "17          Norway      72.27              1          9   \n",
      "18         Austria      69.30              1          9   \n",
      "19     Netherlands      65.34              1         10   \n",
      "20         Belgium      60.39              1          7   \n",
      "21           Italy      50.49              1          9   \n",
      "22       Argentina      39.60              1          5   \n",
      "23         Denmark      37.62              1         10   \n",
      "\n",
      "    avg_sales_per_customer  avg_order  is_other  \n",
      "0                80.037692  10.076923         0  \n",
      "1                66.948750   9.500000         0  \n",
      "2                85.536000  12.200000         0  \n",
      "3                77.814000  10.000000         0  \n",
      "4                83.655000  10.250000         0  \n",
      "5               136.620000  15.000000         0  \n",
      "6                81.840000   9.333333         0  \n",
      "7                92.565000  14.500000         0  \n",
      "8                91.575000  10.500000         0  \n",
      "9               114.840000  13.000000         1  \n",
      "10               98.010000  11.000000         1  \n",
      "11               97.020000  13.000000         1  \n",
      "12               81.180000  10.000000         1  \n",
      "13               79.200000  11.000000         1  \n",
      "14               78.210000  10.000000         1  \n",
      "15               76.230000  10.000000         1  \n",
      "16               75.240000  10.000000         1  \n",
      "17               72.270000   9.000000         1  \n",
      "18               69.300000   9.000000         1  \n",
      "19               65.340000  10.000000         1  \n",
      "20               60.390000   7.000000         1  \n",
      "21               50.490000   9.000000         1  \n",
      "22               39.600000   5.000000         1  \n",
      "23               37.620000  10.000000         1  \n"
     ]
    }
   ],
   "source": [
    "q3a = '''\n",
    "SELECT\n",
    "    c.country,\n",
    "    SUM(i.total) AS tot_sales,\n",
    "    COUNT(DISTINCT(c.customer_id)) AS tot_customers,\n",
    "    COUNT(*) AS tot_order\n",
    "FROM customer c\n",
    "JOIN invoice i ON c.customer_id == i.customer_id\n",
    "GROUP BY c.country\n",
    "'''\n",
    "\n",
    "q3b = '''\n",
    "SELECT\n",
    "    country,\n",
    "    tot_sales,\n",
    "    tot_customers,\n",
    "    tot_order,\n",
    "    tot_sales * 1.0 / tot_customers AS avg_sales_per_customer,\n",
    "    tot_order * 1.0 / tot_customers AS avg_order,\n",
    "    CASE\n",
    "        WHEN tot_customers == 1 THEN 1\n",
    "        ELSE 0\n",
    "    END AS is_other\n",
    "FROM (''' + q3a + ''')\n",
    "ORDER BY is_other, tot_sales DESC\n",
    "'''\n",
    "\n",
    "country_sales = run_query(q3b)\n",
    "print(country_sales)"
   ]
  },
  {
   "cell_type": "markdown",
   "metadata": {
    "collapsed": true
   },
   "source": [
    "Now that the data is inferrable, a series of visualizations is created in order to recommend which countries having the best potential for market growth.\n",
    "\n",
    "- For each dimension `d`, we plot the relation between country vs `d`.\n",
    "- In some circumstances, we may ignore countries with a single customer (`is_other = 1`).\n",
    "- The best dimension may be `avg_sales_per_customer`.\n",
    "\n",
    "### <span style = \"color: red\">Warning: Need more details (6/8)</span>"
   ]
  },
  {
   "cell_type": "code",
   "execution_count": 6,
   "metadata": {
    "collapsed": false
   },
   "outputs": [
    {
     "name": "stderr",
     "output_type": "stream",
     "text": [
      "/dataquest/system/env/python3/lib/python3.4/site-packages/seaborn/categorical.py:1428: FutureWarning: remove_na is deprecated and is a private function. Do not use.\n",
      "  stat_data = remove_na(group_data)\n"
     ]
    },
    {
     "data": {
      "text/plain": [
       "<matplotlib.text.Text at 0x7f50340022e8>"
      ]
     },
     "execution_count": 6,
     "metadata": {},
     "output_type": "execute_result"
    },
    {
     "data": {
      "image/png": "[encoded data removed]",
      "text/plain": [
       "<matplotlib.figure.Figure at 0x7f5033d8a9e8>"
      ]
     },
     "metadata": {},
     "output_type": "display_data"
    }
   ],
   "source": [
    "fig, ax = plt.subplots(2, 1, figsize = (10, 20))\n",
    "\n",
    "sns.barplot(x = \"country\",\n",
    "            y = \"tot_sales\",\n",
    "            label = \"small\",\n",
    "            data = country_sales[:15],\n",
    "            ax = ax[0])\n",
    "ax[0].set_xticklabels(ax[0].get_xticklabels(), rotation = 30)\n",
    "ax[0].set_title(\"The 15 Countries with Largest Total Sales\", fontsize = 16, weight = \"bold\")\n",
    "ax[0].set_xlabel(\"Country\", fontsize = 12)\n",
    "ax[0].set_ylabel(\"Total Sales\", fontsize = 12)\n",
    "\n",
    "sns.barplot(x = \"country\",\n",
    "            y = \"avg_sales_per_customer\",\n",
    "            data = country_sales[country_sales[\"is_other\"] == 0],\n",
    "            ax = ax[1])\n",
    "ax[1].set_title(\"The Average Sales per Consumer (> 1)\", fontsize = 16, weight = \"bold\")\n",
    "ax[1].set_xlabel(\"Country\", fontsize = 12)\n",
    "ax[1].set_ylabel(\"Average Sales\", fontsize = 12)"
   ]
  },
  {
   "cell_type": "markdown",
   "metadata": {},
   "source": [
    "From the above pictures:\n",
    "1. USA is the country with the largest amount of sales.\n",
    "2. Czech Republic seems to be able to grow with the larger sale amount per consumer."
   ]
  },
  {
   "cell_type": "markdown",
   "metadata": {
    "collapsed": true
   },
   "source": [
    "## 4. Analyzing Individual and Album Purchases\n",
    "\n",
    "Suppose that the management are considering altering their purchasing method to increase profit, so that consumers can choose only the most popular tracks from each album from record companies instead of buying every track in an album. We want to compare the number of purchases on individual tracks versus on full albums.\n",
    "\n",
    "The corner cases that can prevent our accuracy might be (1) an album with 1-2 tracks, which will be sold less since one can just pick these tracks as part of a collection of individual tracks, and (2) a manual selection of the entire tracks of an album along with other individual tracks. Since the purpose of this analysis is to maximize profit, we can safely ignore case (1). Meanwhile, our management's separate analysis reasons that case (2) does not happen often, so we can also safely ignore case (2).\n",
    "\n",
    "We classify an invoice as either an album purchase or not, then calculate the number and the percentage of invoices."
   ]
  },
  {
   "cell_type": "code",
   "execution_count": 7,
   "metadata": {
    "collapsed": false
   },
   "outputs": [
    {
     "name": "stdout",
     "output_type": "stream",
     "text": [
      "  is_whole_album  num_invoices  percent_invoices\n",
      "0             No           500         81.433225\n",
      "1            Yes           114         18.566775\n"
     ]
    }
   ],
   "source": [
    "q4_album_track_num = '''\n",
    "SELECT\n",
    "    a.album_id,\n",
    "    COUNT(t.track_id) AS num_tracks\n",
    "FROM album a\n",
    "JOIN track t ON a.album_id = t.album_id\n",
    "GROUP BY a.album_id\n",
    "'''\n",
    "\n",
    "q4_invoice_track_etc = '''\n",
    "SELECT\n",
    "    i.invoice_id,\n",
    "    il.track_id,\n",
    "    atn.album_id,\n",
    "    atn.num_tracks\n",
    "FROM invoice i\n",
    "JOIN invoice_line il ON i.invoice_id = il.invoice_id\n",
    "JOIN track t ON t.track_id = il.track_id\n",
    "JOIN (''' + q4_album_track_num + ''') atn ON atn.album_id = t.album_id\n",
    "'''\n",
    "\n",
    "q4_invoice_is_whole_album = '''\n",
    "SELECT\n",
    "    invoice_id,\n",
    "    CASE\n",
    "        WHEN (\n",
    "            COUNT(DISTINCT album_id) == 1\n",
    "        ) AND (\n",
    "            COUNT(*) == num_tracks\n",
    "        ) THEN 1\n",
    "        ELSE 0\n",
    "    END AS is_whole_album\n",
    "FROM (''' + q4_invoice_track_etc + ''')\n",
    "GROUP BY invoice_id\n",
    "'''\n",
    "\n",
    "q4_indiv_vs_album = '''\n",
    "WITH iiwa AS (''' + q4_invoice_is_whole_album + ''')\n",
    "SELECT\n",
    "    CASE\n",
    "        WHEN is_whole_album == 1 THEN \"Yes\"\n",
    "        ELSE \"No\"\n",
    "    END is_whole_album,\n",
    "    COUNT(*) num_invoices,\n",
    "    COUNT(*) * 100.0 / (SELECT COUNT(*) FROM iiwa) percent_invoices\n",
    "FROM iiwa \n",
    "GROUP BY is_whole_album\n",
    "'''\n",
    "\n",
    "invoice_compare = run_query(q4_indiv_vs_album)\n",
    "print(invoice_compare.head(20))"
   ]
  },
  {
   "cell_type": "markdown",
   "metadata": {},
   "source": [
    "Around $80\\%$ of sales comprises individual tracks, which is quite significant. Therefore we may recommend the Chinook store to change the purchase system orientation into individual tracks."
   ]
  },
  {
   "cell_type": "markdown",
   "metadata": {},
   "source": [
    "## 5. Conclusion\n"
   ]
  },
  {
   "cell_type": "code",
   "execution_count": null,
   "metadata": {
    "collapsed": true
   },
   "outputs": [],
   "source": []
  }
 ],
 "metadata": {
  "kernelspec": {
   "display_name": "Python 3",
   "language": "python",
   "name": "python3"
  },
  "language_info": {
   "codemirror_mode": {
    "name": "ipython",
    "version": 3
   },
   "file_extension": ".py",
   "mimetype": "text/x-python",
   "name": "python",
   "nbconvert_exporter": "python",
   "pygments_lexer": "ipython3",
   "version": "3.4.3"
  }
 },
 "nbformat": 4,
 "nbformat_minor": 2
}
