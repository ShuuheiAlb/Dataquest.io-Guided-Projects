{
 "cells": [
  {
   "cell_type": "markdown",
   "metadata": {
    "collapsed": true
   },
   "source": [
    "# Guided Project: Predicting House Sale Prices\n",
    "\n",
    "This project is to apply into practice the intuition for model based learning, linear regression model, and further methods about data cleaning, transformation and feature selection.\n",
    "\n",
    "The [data set](https://www.tandfonline.com/doi/abs/10.1080/10691898.2011.11889627) we explore is about the housings from 2006 to 2010 in Ames, Iowa, USA. It columns' descriptions can be read [here](https://s3.amazonaws.com/dq-content/307/data_description.txt)."
   ]
  },
  {
   "cell_type": "markdown",
   "metadata": {},
   "source": [
    "## 1. Introduction\n",
    "\n",
    "We open the initial data set file with a tab as delimiter `AmesHousing.tsv` and create the training and testing data set (`train` and `test` respectively).\n",
    "\n",
    "We then define three pipeline functions `transform_features()`, `select_features()` and `train_and_test()` in order to efficiently iterate on different models."
   ]
  },
  {
   "cell_type": "code",
   "execution_count": 1,
   "metadata": {},
   "outputs": [
    {
     "name": "stdout",
     "output_type": "stream",
     "text": [
      "Total rows of the initial data set: 2930\n"
     ]
    }
   ],
   "source": [
    "import numpy as np\n",
    "import pandas as pd\n",
    "import matplotlib.pyplot as plt\n",
    "from sklearn.linear_model import LinearRegression\n",
    "from sklearn.metrics import mean_squared_error\n",
    "%matplotlib inline\n",
    "\n",
    "housing = pd.read_csv(\"AmesHousing.tsv\", delimiter = \"\\t\")\n",
    "housing_rows_num = len(housing)\n",
    "print(\"Total rows of the initial data set: \" + str(housing_rows_num))"
   ]
  },
  {
   "cell_type": "markdown",
   "metadata": {},
   "source": [
    "We then set the default implementations for the three helper functions.\n",
    "\n",
    "We will also write a copy of these functions' codes that can be updated in liberty at the end of this project. This way, when the Notebook kernel is run, the functions will be automatically updated according to these particular implementations."
   ]
  },
  {
   "cell_type": "code",
   "execution_count": 2,
   "metadata": {},
   "outputs": [],
   "source": [
    "# First function\n",
    "def transform_features(df):\n",
    "    return df"
   ]
  },
  {
   "cell_type": "code",
   "execution_count": 3,
   "metadata": {},
   "outputs": [],
   "source": [
    "# Second function\n",
    "def select_features(df):\n",
    "    return df[[\"Gr Liv Area\", \"SalePrice\"]]"
   ]
  },
  {
   "cell_type": "code",
   "execution_count": 4,
   "metadata": {},
   "outputs": [],
   "source": [
    "# Third function\n",
    "def train_and_test(data):\n",
    "    lr = LinearRegression()\n",
    "    df = select_features(data) # containing feature cols and target col\n",
    "    train = df[:len(df)//2]\n",
    "    test = df[len(df)//2:]\n",
    "    df_features = df.drop(columns = \"SalePrice\")\n",
    "    lr.fit(df_features, df[\"SalePrice\"])\n",
    "    c_1 = lr.coef_\n",
    "    c_0 = lr.intercept_\n",
    "    prediction = lr.predict(test[df_features.columns])\n",
    "    rmse = np.sqrt(mean_squared_error(prediction, test[\"SalePrice\"]))\n",
    "    print(\"Linear regression coefficients\")\n",
    "    print(\"c_1, c_0: \" + str(c_1) + \", \" + str(c_0))\n",
    "    print(\"RMSE: \" + str(rmse))\n",
    "    return rmse"
   ]
  },
  {
   "cell_type": "markdown",
   "metadata": {},
   "source": [
    "When we run the training-testing function, we get:"
   ]
  },
  {
   "cell_type": "code",
   "execution_count": 5,
   "metadata": {},
   "outputs": [
    {
     "name": "stdout",
     "output_type": "stream",
     "text": [
      "Linear regression coefficients\n",
      "c_1, c_0: [111.69400086], 13289.63436475952\n",
      "RMSE: 56948.148737954136\n"
     ]
    }
   ],
   "source": [
    "rmse = train_and_test(housing)"
   ]
  },
  {
   "cell_type": "markdown",
   "metadata": {},
   "source": [
    "## 2. Data Cleaning\n",
    "\n",
    "### First\n",
    "\n",
    "Now we will update the `transform_features()` function. The function is intended to:\n",
    "* remove features that we don't want to use in the model, based on merely the number of missing values or data leakage\n",
    "* transform features into the proper format (numerical to categorical, scaling numerical, filling in missing values, etc)\n",
    "* create new features by combining other features"
   ]
  },
  {
   "cell_type": "markdown",
   "metadata": {},
   "source": [
    "The `transform_features()` should not modify the `train` data frame, but copy it instead. Now `train` can be reused for other experimentations.\n",
    "\n",
    "We select only columns with less than $5\\%$ missing values. After left with these columns, we delete any rows having at least one missing value. By simple programming, there are only 53 such rows (less than $5\\%$ of the total rows of 1465. An alternative way to do this would be to fill the missing values with their column means (using `fillna()` function in Pandas).\n",
    "\n",
    "We then create two new columns from the existing features which do not contribute well to housing prices, as well as removing their component features.\n",
    "\n",
    "We also remove column that reveals about the sales price such as `Misc Val`, which is the price of miscellaneous house features."
   ]
  },
  {
   "cell_type": "code",
   "execution_count": 6,
   "metadata": {},
   "outputs": [],
   "source": [
    "def transform_features(df):\n",
    "    # Copy df data\n",
    "    df_cp = df.copy()\n",
    "    \n",
    "    # Select columns with less than 5% missing vals\n",
    "    na_limit = 5/100 * len(df_cp)\n",
    "    na_counts = df_cp.isna().sum()\n",
    "    df_cp = df_cp.loc[:, na_counts < na_limit]\n",
    "    # Delete all other rows with missing values\n",
    "    df_cp.dropna(inplace = True)\n",
    "    \n",
    "    # Create new columns for linear regression\n",
    "    df_cp[\"years_until_remod\"] = df_cp[\"Year Remod/Add\"] - df_cp[\"Year Built\"]\n",
    "    df_cp[\"years_until_sold\"] = df_cp[\"Yr Sold\"] - df_cp[\"Year Built\"]\n",
    "    \n",
    "    # Remove columns that are just unuseful\n",
    "    df_cp.drop(columns = [\"Order\", \"PID\"], inplace = True)\n",
    "    # Remove columns that leak data about final sales\n",
    "    df_cp.drop(columns = [\"Misc Val\"], inplace = True)\n",
    "    \n",
    "    return df_cp\n",
    "\n",
    "train = housing[:len(housing)//2]\n",
    "transformed_train = transform_features(train)"
   ]
  },
  {
   "cell_type": "markdown",
   "metadata": {
    "collapsed": true
   },
   "source": [
    "### Second\n",
    "\n",
    "We edit the `select_features()` to visualize the column correlations `heatmap` from Seaborn, then eliminate one out of each pair that has a high correlation, since putting both similar-performing columns creates unnecessary data overload.\n",
    "\n",
    "We also save four features with the highest correlations with `SalePrice`."
   ]
  },
  {
   "cell_type": "code",
   "execution_count": 7,
   "metadata": {
    "scrolled": true
   },
   "outputs": [
    {
     "data": {
      "image/png": "[encoded data removed]",
      "text/plain": [
       "<Figure size 432x288 with 2 Axes>"
      ]
     },
     "metadata": {
      "needs_background": "light"
     },
     "output_type": "display_data"
    }
   ],
   "source": [
    "import seaborn as sns\n",
    "\n",
    "def select_features(df):\n",
    "    df = transform_features(df)\n",
    "    # TRY: check numeric columns with high correlations\n",
    "    corr_matrix = df.corr()\n",
    "    sns.heatmap(corr_matrix, xticklabels = True, yticklabels = True)\n",
    "    plt.show()\n",
    "    return df\n",
    "\n",
    "selected_train = select_features(train)"
   ]
  },
  {
   "cell_type": "markdown",
   "metadata": {},
   "source": [
    "Ignoring the target column `SalePrice`'s line, we can see that the variable pairs with highest correlation are (`Total Bsmt SF`, `1st Flr SF`), (`Garage Cars`, `Garage Area`), and (`Gr Liv Area`, `TotRms AbvGrd`). We should remove one of the variables in each pair.\n",
    "\n",
    "From [the data set description](https://s3.amazonaws.com/dq-content/307/data_description.txt), `Total Bsmt SF` reflects the total area of the basement while `1st Flr SF` reflects the total area of the first floor. It turns out from the code below, `1st Flr SF` is generally of larger value than `Total Bsmt SF`. The variable with larger value may better capture the entire house lot area.\n",
    "\n",
    "Meanwhile, `Garage Area` provides more flexibility as linear model feature compared to `Garage Cars`, since it has continuous values as opposed to `Garage Cars`'s discrete integer values. Similarly, we pick `Gr Liv Area` over `TotRms AbvGrd`.\n",
    "\n",
    "We henceforth maintain `1st Flr SF`, `Garage Area` and `Gr Liv Area`; removing `Total Bsmt SF`, `Garage Cars` and `TotRms AbvGrd`. Furthermore, we calculate the correlation coefficients for the columns that very likely correlate with `SalePrice`. Based on the previous heatmap, these columns are:\n",
    "\n",
    "`[\"Overall Qual\", \"Gr Liv Area\", \"Garage Area\", \"1st Flr SF\"]`."
   ]
  },
  {
   "cell_type": "code",
   "execution_count": 8,
   "metadata": {},
   "outputs": [
    {
     "name": "stdout",
     "output_type": "stream",
     "text": [
      "41\n",
      "665\n"
     ]
    }
   ],
   "source": [
    "print((train[\"Total Bsmt SF\"] > train[\"1st Flr SF\"]).sum())\n",
    "print((train[\"Total Bsmt SF\"] < train[\"1st Flr SF\"]).sum())"
   ]
  },
  {
   "cell_type": "code",
   "execution_count": 9,
   "metadata": {},
   "outputs": [
    {
     "name": "stdout",
     "output_type": "stream",
     "text": [
      "Columns of high correlation with SalePrice:\n",
      "Overall Qual    0.802593\n",
      "Gr Liv Area     0.703967\n",
      "Garage Area     0.664270\n",
      "1st Flr SF      0.668796\n",
      "Name: SalePrice, dtype: float64\n"
     ]
    }
   ],
   "source": [
    "def select_features(df):\n",
    "    df = transform_features(df)\n",
    "    \n",
    "    # Remove columns with high correlations\n",
    "    df.drop(columns = [\"Garage Cars\", \"Total Bsmt SF\", \"TotRms AbvGrd\"], inplace = True)\n",
    "    \n",
    "    # Calculate corr coeffs for best columns\n",
    "    corr_matrix = df.corr()\n",
    "    high_corr_SalePrice_cols = [\"Overall Qual\", \"Gr Liv Area\", \"Garage Area\", \"1st Flr SF\"]\n",
    "    print(\"Columns of high correlation with SalePrice:\")\n",
    "    print(corr_matrix.loc[\"SalePrice\", high_corr_SalePrice_cols])\n",
    "    return df\n",
    "\n",
    "selected_train = select_features(train)"
   ]
  },
  {
   "cell_type": "markdown",
   "metadata": {
    "collapsed": true
   },
   "source": [
    "### Third\n",
    "\n",
    "Our next step is to convert columns into categorical data types. All nominal variables are potential to be converted as category. After checking the string columns in (cleaned) `train` data set, they are all nomial variables. The numeric columns with nominal measurement are `MS SubClass` and `Month Sold`.\n",
    "\n",
    "We may eliminate categorical columns if these cases happen:\n",
    "* The categorical column has too many unique categories (e.g. hundreds) and thus unsuitable to be a linear model feature.\n",
    "* The column has low variance (too many values of equal value, let say more than $95\\%$).\n",
    "\n",
    "Finally, we do feature scaling to the training data set, so that each entry ranges from 0 to 1."
   ]
  },
  {
   "cell_type": "code",
   "execution_count": 10,
   "metadata": {},
   "outputs": [
    {
     "name": "stdout",
     "output_type": "stream",
     "text": [
      "Final num of feature and target columns: 176\n",
      "   Lot Area  Overall Qual  Overall Cond  Year Built  Year Remod/Add  \\\n",
      "0  0.142420      0.555556         0.500    0.637681        0.166667   \n",
      "1  0.048246      0.444444         0.625    0.644928        0.183333   \n",
      "2  0.060609      0.555556         0.625    0.623188        0.133333   \n",
      "\n",
      "   Mas Vnr Area  BsmtFin SF 1  BsmtFin SF 2  Bsmt Unf SF  Total Bsmt SF  ...  \\\n",
      "0      0.086822      0.279283      0.000000     0.188784       0.326196  ...   \n",
      "1      0.000000      0.204545      0.094364     0.115582       0.259953  ...   \n",
      "2      0.083721      0.403409      0.000000     0.173801       0.409502  ...   \n",
      "\n",
      "   Sale Type_ConLI  Sale Type_ConLw  Sale Type_New  Sale Type_Oth  \\\n",
      "0              0.0              0.0            0.0            0.0   \n",
      "1              0.0              0.0            0.0            0.0   \n",
      "2              0.0              0.0            0.0            0.0   \n",
      "\n",
      "   Sale Type_WD   Sale Condition_Abnorml  Sale Condition_Alloca  \\\n",
      "0            1.0                     0.0                    0.0   \n",
      "1            1.0                     0.0                    0.0   \n",
      "2            1.0                     0.0                    0.0   \n",
      "\n",
      "   Sale Condition_Family  Sale Condition_Normal  Sale Condition_Partial  \n",
      "0                    0.0                    1.0                     0.0  \n",
      "1                    0.0                    1.0                     0.0  \n",
      "2                    0.0                    1.0                     0.0  \n",
      "\n",
      "[3 rows x 176 columns]\n",
      "Columns of high correlation with SalePrice:\n",
      "Overall Qual    0.796838\n",
      "Gr Liv Area     0.710706\n",
      "Garage Area     0.640168\n",
      "1st Flr SF      0.634411\n",
      "Name: SalePrice, dtype: float64\n",
      "Linear regression coefficients\n",
      "c_1, c_0: [ 1.14274389e-01  1.31925040e-01  5.16164008e-02  2.59101935e+11\n",
      " -2.00297151e+11  6.71686852e-02  7.00507513e-02  3.61455365e-02\n",
      "  1.37901018e-02  7.85143274e+09  3.45844894e+09  1.78198047e+09\n",
      " -8.76754488e+09  1.83332608e-02 -1.03621206e-02  2.64873815e-02\n",
      "  8.26312185e-03 -1.36932853e-02 -5.02726437e-02  3.40811743e-02\n",
      "  4.97992784e-02  1.54676495e-02 -2.94555372e-02  2.35279102e-02\n",
      "  6.36311443e-03  4.11582410e-02 -1.69670918e-02  5.84294242e+09\n",
      "  4.13947446e+11 -2.00120778e+11 -1.29970769e+11 -1.29970769e+11\n",
      " -1.29970769e+11 -1.29970769e+11 -1.29970769e+11 -1.29970769e+11\n",
      "  1.32397105e+12  1.32397105e+12  1.32397105e+12  1.32397105e+12\n",
      "  9.61633869e+10  9.61633869e+10  9.61633869e+10  9.61633869e+10\n",
      " -1.86353071e+11 -1.86353071e+11 -1.86353071e+11 -1.86353071e+11\n",
      " -1.86353071e+11 -6.97085692e+10 -6.97085692e+10 -6.97085692e+10\n",
      " -6.97085692e+10 -6.97085692e+10 -6.97085692e+10 -6.97085692e+10\n",
      " -6.97085692e+10 -6.97085692e+10  2.10242767e+11  2.10242767e+11\n",
      "  2.10242767e+11  2.10242767e+11  2.10242767e+11  2.87578756e+10\n",
      "  2.87578756e+10  2.87578756e+10  2.87578756e+10  2.87578756e+10\n",
      "  2.87578756e+10  2.87578756e+10  2.87578756e+10 -8.75630545e+10\n",
      " -8.75630545e+10 -8.75630545e+10 -8.75630545e+10 -8.75630545e+10\n",
      " -8.75630545e+10  7.04880163e+10  7.04880163e+10  7.04880163e+10\n",
      "  7.04880163e+10  7.04880163e+10  7.01379024e+10  7.01379024e+10\n",
      "  7.01379024e+10  7.01379024e+10 -3.96623779e+10 -3.96623779e+10\n",
      " -3.96623779e+10 -3.96623779e+10 -3.96623779e+10  5.04583347e+10\n",
      "  5.04583347e+10  5.04583347e+10  5.04583347e+10  5.04583347e+10\n",
      "  2.27737966e+10  2.27737966e+10  2.27737966e+10  2.27737966e+10\n",
      "  2.27737966e+10  1.38010990e+10  1.38010990e+10  1.38010990e+10\n",
      "  1.38010990e+10  1.38010990e+10 -2.06488929e+10 -2.06488929e+10\n",
      " -2.06488929e+10 -2.06488929e+10 -4.02026200e+09 -4.02026200e+09\n",
      " -4.02026200e+09 -4.02026200e+09 -4.02026200e+09 -4.02026200e+09\n",
      "  2.48394056e+10  2.48394056e+10  2.48394056e+10  2.48394056e+10\n",
      "  2.48394056e+10  2.48394056e+10  2.08893592e+11  2.08893592e+11\n",
      "  2.08893592e+11  2.08893592e+11  2.08893592e+11 -5.56311491e+10\n",
      " -5.56311491e+10  3.52561851e+10  3.52561851e+10  3.52561851e+10\n",
      "  3.52561851e+10  3.52561851e+10 -1.84290430e+11 -1.84290430e+11\n",
      " -1.84290430e+11 -1.84290430e+11 -1.84290430e+11  6.48978250e+09\n",
      "  6.48978250e+09  6.48978250e+09  6.48978250e+09  6.48978250e+09\n",
      "  6.48978250e+09  6.48978250e+09  6.48978250e+09 -4.44407143e+10\n",
      " -4.44407143e+10 -4.44407143e+10  2.16875868e+10  2.16875868e+10\n",
      "  2.16875868e+10  2.16875868e+10  2.16875868e+10  2.16875868e+10\n",
      "  2.16875868e+10  2.16875868e+10  2.16875868e+10  2.16875868e+10\n",
      " -4.65536123e+10 -4.65536123e+10 -4.65536123e+10 -4.65536123e+10\n",
      " -4.65536123e+10 -4.65536123e+10], -1381643156648.4104\n",
      "RMSE: 0.04216857629026086\n"
     ]
    }
   ],
   "source": [
    "def transform_features(train):\n",
    "    # Copy `train` data\n",
    "    df = train.copy()\n",
    "    \n",
    "    # Select columns with less than 5% missing vals\n",
    "    na_limit = 5/100 * len(df)\n",
    "    na_counts = df.isna().sum()\n",
    "    df = df.loc[:, na_counts < na_limit]\n",
    "    # Delete all other rows with missing values\n",
    "    df.dropna(inplace = True)\n",
    "    \n",
    "    # Create new columns for linear regression\n",
    "    df[\"years_until_remod\"] = df[\"Year Remod/Add\"] - df[\"Year Built\"]\n",
    "    df[\"years_until_sold\"] = df[\"Yr Sold\"] - df[\"Year Built\"]\n",
    "    \n",
    "    # Remove columns that are just uneuseful\n",
    "    df.drop(columns = [\"Order\", \"PID\"], inplace = True)\n",
    "    # Remove columns that leak data about final sales\n",
    "    df.drop(columns = [\"Misc Val\"], inplace = True)\n",
    "    \n",
    "    # == Select appropriate columns to category type ==\n",
    "    # Start with string-type columns\n",
    "    cat_cols = list(df.select_dtypes(include = [\"object\"]).columns)\n",
    "    # Add numeric variables which do not have semantic meaning\n",
    "    cat_cols.append(\"MS SubClass\")\n",
    "    cat_cols.append(\"Mo Sold\")\n",
    "    # Remove some categorical columns\n",
    "    cat_cols_cp = list(cat_cols)\n",
    "    for col in cat_cols_cp:\n",
    "        uq_val_counts = df[col].value_counts()\n",
    "        uq_vals = list(uq_val_counts.index)\n",
    "        # Delete if\n",
    "        # 1. it has unique values more than 15\n",
    "        # 2. the largest value comprises >95% of the total rows\n",
    "        if (len(uq_vals) > 15) or (uq_val_counts.iloc[0] / uq_val_counts.sum() > 0.95):\n",
    "            cat_cols.remove(col)\n",
    "            df.drop(columns = col, inplace = True)\n",
    "    \n",
    "    # == Convert to categorical using dummy codes ==\n",
    "    dummy_cols = pd.get_dummies(df[cat_cols])\n",
    "    df[dummy_cols.columns] = dummy_cols\n",
    "    df.drop(columns = cat_cols, inplace = True)\n",
    "    \n",
    "    # Feature scaling\n",
    "    df = (df - df.min()) / (df.max() - df.min())\n",
    "    \n",
    "    return df\n",
    "\n",
    "# NB: there are ranking columns in both numerical and non-numerical data. This should not be a problem\n",
    "transformed_train = transform_features(train)\n",
    "print(\"Final num of feature and target columns: \" + str(transformed_train.shape[1]))\n",
    "print(transformed_train.head(3))\n",
    "rmse = train_and_test(housing)"
   ]
  },
  {
   "cell_type": "markdown",
   "metadata": {},
   "source": [
    "## 3. Features Selection\n",
    "\n",
    "There are several ways to find out which categorical columns \"link\" well with `SalePrice`. From [this article](https://machinelearningmastery.com/feature-selection-machine-learning-python/), they can be:\n",
    "\n",
    "1. Univariate Selection, selecting the columns that individually perform the best to predict housing prices.\n",
    "2. Recursive Feature Elimination, which recursively remove feature one by one until a particular number of features giving the best result is met.\n",
    "3. Principal Component Analysis, using linear algebra to alter the data into a reduced form containing uncorrelated variables called principal components. The number of dimensions can be chosen as an input.\n",
    "4. Feature Importance, using decision trees such as extra trees from random trees.\n",
    "\n",
    "For now, we will try using Recursive Feature Elimination to select from the current 174 columns in `select_features()`. Let sey we want the number of features to be 20\\%$ of the total column, which is 35."
   ]
  },
  {
   "cell_type": "code",
   "execution_count": 11,
   "metadata": {},
   "outputs": [
    {
     "name": "stdout",
     "output_type": "stream",
     "text": [
      "Column names: ['Condition 1_Artery', 'Condition 1_Feedr', 'Condition 1_Norm', 'Condition 1_PosA', 'Condition 1_RRAe', 'Condition 1_RRAn', 'Condition 1_RRNe', 'Condition 1_RRNn', 'Bsmt Exposure_Av', 'Bsmt Exposure_Gd', 'Bsmt Exposure_Mn', 'Bsmt Exposure_No', 'BsmtFin Type 1_ALQ', 'BsmtFin Type 1_BLQ', 'BsmtFin Type 1_GLQ', 'BsmtFin Type 1_LwQ', 'BsmtFin Type 1_Rec', 'BsmtFin Type 1_Unf', 'BsmtFin Type 2_ALQ', 'BsmtFin Type 2_BLQ', 'BsmtFin Type 2_GLQ', 'BsmtFin Type 2_LwQ', 'BsmtFin Type 2_Rec', 'BsmtFin Type 2_Unf', 'Electrical_FuseA', 'Electrical_FuseF', 'Electrical_FuseP', 'Electrical_SBrkr', 'Functional_Maj1', 'Functional_Maj2', 'Functional_Min1', 'Functional_Min2', 'Functional_Mod', 'Functional_Sev', 'Functional_Typ', 'Overall Qual', 'Gr Liv Area', 'Garage Area', '1st Flr SF', 'SalePrice']\n",
      "Linear regression coefficients\n",
      "c_1, c_0: [-3.39082510e+11 -3.39082510e+11 -3.39082510e+11 -3.39082510e+11\n",
      "  3.68764490e+11  3.68764490e+11  3.68764490e+11  3.68764490e+11\n",
      "  3.68764490e+11  2.09808350e-02  9.19342041e-04  6.30855560e-03\n",
      "  6.49468283e+11  6.49468283e+11  6.49468283e+11  6.49468283e+11\n",
      "  6.49468283e+11  3.67374824e+11  3.67374824e+11  3.67374824e+11\n",
      "  3.67374824e+11  3.67374824e+11  9.29019196e+10  9.29019196e+10\n",
      "  9.29019196e+10  9.29019196e+10  9.29019196e+10  5.07052865e+11\n",
      "  5.07052865e+11  5.07052865e+11  5.07052865e+11  5.07052865e+11\n",
      " -9.74949739e+10 -9.74949739e+10 -9.74949739e+10  2.26310730e-01\n",
      "  2.93678284e-01  8.80432129e-02  1.75090790e-01], -1548984898659.3633\n",
      "RMSE: 0.04999489476398464\n"
     ]
    }
   ],
   "source": [
    "from sklearn.feature_selection import RFE\n",
    "\n",
    "def select_features(train):\n",
    "    df = transform_features(train)\n",
    "    \n",
    "    # Remove columns with high correlations\n",
    "    df.drop(columns = [\"Garage Cars\", \"Total Bsmt SF\"], inplace = True)\n",
    "    \n",
    "    # Setting the best univariate model columns for the initial data set\n",
    "    high_corr_SalePrice_cols = [\"Overall Qual\", \"Gr Liv Area\", \"Garage Area\", \"1st Flr SF\"]\n",
    "\n",
    "    # Using RFE (??? Very bad result)\n",
    "    n = 35\n",
    "    lr = LinearRegression()\n",
    "    rfe = RFE(lr, n)\n",
    "    df_features = df.drop(columns = \"SalePrice\")\n",
    "    fit = rfe.fit(df_features, df[\"SalePrice\"])\n",
    "    support_bools = fit.support_\n",
    "    end_col_names = list(df_features.columns[support_bools])\n",
    "    for col in high_corr_SalePrice_cols:\n",
    "        end_col_names.append(col)\n",
    "    end_col_names.append(\"SalePrice\")\n",
    "    df = df[end_col_names]\n",
    "    \n",
    "    return df\n",
    "\n",
    "selected_train = select_features(train)\n",
    "print(\"Column names: \" + str(list(selected_train.columns)))\n",
    "rmse = train_and_test(housing)"
   ]
  },
  {
   "cell_type": "markdown",
   "metadata": {
    "collapsed": true
   },
   "source": [
    "## 4. Training and Testing Model\n",
    "\n",
    "We add a parameter `k` that controls the type of cross validation in training and testing process. For this, we need to redefine the data frame in `transform_features()` from training set into the whole set, before using `cross_val_score()` in `train_and_test()` function."
   ]
  },
  {
   "cell_type": "code",
   "execution_count": 12,
   "metadata": {},
   "outputs": [
    {
     "name": "stdout",
     "output_type": "stream",
     "text": [
      "k default rmse : 103901232611.223\n",
      "k = 1 rmse : 58382512619.79016\n",
      "k = 5 rmse : [-6.15535604e+22  8.34383096e-01  7.43447780e-01 -1.15652271e+23\n",
      "  8.47281636e-01]\n"
     ]
    }
   ],
   "source": [
    "from sklearn.model_selection import cross_val_score, KFold\n",
    "\n",
    "def train_and_test(data, k = 0):\n",
    "    df = select_features(data)\n",
    "    lr = LinearRegression()\n",
    "    if (k == 0):\n",
    "        train = df[:len(df)//2]\n",
    "        test = df[len(df)//2:]\n",
    "        train_features = train.drop(columns = \"SalePrice\")\n",
    "        lr.fit(train_features, train[\"SalePrice\"])\n",
    "        #c_1 = lr.coef_\n",
    "        #c_0 = lr.intercept_\n",
    "        prediction = lr.predict(test[train_features.columns])\n",
    "        rmse = np.sqrt(mean_squared_error(prediction, test[\"SalePrice\"]))\n",
    "        return rmse\n",
    "    elif (k == 1):\n",
    "        train = df[:len(df)//2]\n",
    "        test = df[len(df)//2:]\n",
    "        \n",
    "        train_features1 = train.drop(columns = \"SalePrice\")\n",
    "        lr.fit(train_features1, train[\"SalePrice\"])\n",
    "        prediction1 = lr.predict(test[train_features1.columns])\n",
    "        rmse1 = np.sqrt(mean_squared_error(prediction1, test[\"SalePrice\"]))\n",
    "        \n",
    "        train_features2 = test.drop(columns = \"SalePrice\")\n",
    "        lr.fit(train_features2, test[\"SalePrice\"])\n",
    "        prediction2 = lr.predict(train[train_features2.columns])\n",
    "        rmse2 = np.sqrt(mean_squared_error(prediction2, train[\"SalePrice\"]))\n",
    "        \n",
    "        return (rmse1 + rmse2)/2\n",
    "    else:\n",
    "        rmse = cross_val_score(lr, df.drop(columns = \"SalePrice\"), df[\"SalePrice\"], cv = KFold(k))\n",
    "        return rmse\n",
    "\n",
    "print(\"k default rmse : \" + str(train_and_test(housing)))\n",
    "print(\"k = 1 rmse : \" + str(train_and_test(housing, 1)))\n",
    "print(\"k = 5 rmse : \" + str(train_and_test(housing, 5)))"
   ]
  },
  {
   "cell_type": "markdown",
   "metadata": {
    "collapsed": true
   },
   "source": [
    "## 5. Conclusion\n",
    "\n"
   ]
  },
  {
   "cell_type": "code",
   "execution_count": null,
   "metadata": {},
   "outputs": [],
   "source": []
  }
 ],
 "metadata": {
  "anaconda-cloud": {},
  "kernelspec": {
   "display_name": "Python 3",
   "language": "python",
   "name": "python3"
  },
  "language_info": {
   "codemirror_mode": {
    "name": "ipython",
    "version": 3
   },
   "file_extension": ".py",
   "mimetype": "text/x-python",
   "name": "python",
   "nbconvert_exporter": "python",
   "pygments_lexer": "ipython3",
   "version": "3.7.2"
  }
 },
 "nbformat": 4,
 "nbformat_minor": 2
}
