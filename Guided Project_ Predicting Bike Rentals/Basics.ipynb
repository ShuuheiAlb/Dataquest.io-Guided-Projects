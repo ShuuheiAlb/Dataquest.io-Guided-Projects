{
 "cells": [
  {
   "cell_type": "markdown",
   "metadata": {
    "collapsed": true
   },
   "source": [
    "# Guided Project: Predicting Bike Rentals\n",
    "\n",
    "The goal is to predict the number of bike rentals using decision tree technique on a bike rental data set, as well as to compare the performance of decision tree and simple linear regression method.\n",
    "\n",
    "The file we use is `bike_rental_hour.csv` compiled by Hadi Fanaee-T from University of Porto. The data set is downloadable [here from the University of California. Irvine's website](https://archive.ics.uci.edu/ml/datasets/Bike+Sharing+Dataset)."
   ]
  },
  {
   "cell_type": "markdown",
   "metadata": {},
   "source": [
    "## 1. Introduction"
   ]
  },
  {
   "cell_type": "code",
   "execution_count": 1,
   "metadata": {
    "collapsed": false
   },
   "outputs": [
    {
     "name": "stdout",
     "output_type": "stream",
     "text": [
      "(17379, 17)\n",
      "   instant      dteday  season  yr  mnth  hr  holiday  weekday  workingday  \\\n",
      "0        1  2011-01-01       1   0     1   0        0        6           0   \n",
      "1        2  2011-01-01       1   0     1   1        0        6           0   \n",
      "2        3  2011-01-01       1   0     1   2        0        6           0   \n",
      "3        4  2011-01-01       1   0     1   3        0        6           0   \n",
      "4        5  2011-01-01       1   0     1   4        0        6           0   \n",
      "\n",
      "   weathersit  temp   atemp   hum  windspeed  casual  registered  cnt  \n",
      "0           1  0.24  0.2879  0.81        0.0       3          13   16  \n",
      "1           1  0.22  0.2727  0.80        0.0       8          32   40  \n",
      "2           1  0.22  0.2727  0.80        0.0       5          27   32  \n",
      "3           1  0.24  0.2879  0.75        0.0       3          10   13  \n",
      "4           1  0.24  0.2879  0.75        0.0       0           1    1  \n"
     ]
    },
    {
     "data": {
      "image/png": "[encoded data removed]",
      "text/plain": [
       "<matplotlib.figure.Figure at 0x7f035da3b748>"
      ]
     },
     "metadata": {},
     "output_type": "display_data"
    },
    {
     "name": "stdout",
     "output_type": "stream",
     "text": [
      "hum          -0.322911\n",
      "weathersit   -0.142426\n",
      "holiday      -0.030927\n",
      "weekday       0.026900\n",
      "workingday    0.030284\n",
      "windspeed     0.093234\n",
      "mnth          0.120638\n",
      "season        0.178056\n",
      "yr            0.250495\n",
      "instant       0.278379\n",
      "hr            0.394071\n",
      "atemp         0.400929\n",
      "temp          0.404772\n",
      "casual        0.694564\n",
      "registered    0.972151\n",
      "cnt           1.000000\n",
      "Name: cnt, dtype: float64\n"
     ]
    }
   ],
   "source": [
    "%matplotlib inline\n",
    "import numpy as np\n",
    "import pandas as pd\n",
    "import matplotlib.pyplot as plt\n",
    "\n",
    "bike_rentals = pd.read_csv(\"bike_rental_hour.csv\")\n",
    "print(bike_rentals.shape)\n",
    "print(bike_rentals.head())\n",
    "plt.hist(bike_rentals[\"cnt\"])\n",
    "plt.xlabel(\"cnt values\")\n",
    "plt.ylabel(\"frequency\")\n",
    "plt.show()\n",
    "print(bike_rentals.corr()[\"cnt\"].sort_values())"
   ]
  },
  {
   "cell_type": "markdown",
   "metadata": {},
   "source": [
    "## 2.a Assign New Variables"
   ]
  },
  {
   "cell_type": "code",
   "execution_count": 2,
   "metadata": {
    "collapsed": false
   },
   "outputs": [
    {
     "name": "stdout",
     "output_type": "stream",
     "text": [
      "   instant      dteday  season  yr  mnth  hr  holiday  weekday  workingday  \\\n",
      "0        1  2011-01-01       1   0     1   0        0        6           0   \n",
      "1        2  2011-01-01       1   0     1   1        0        6           0   \n",
      "2        3  2011-01-01       1   0     1   2        0        6           0   \n",
      "3        4  2011-01-01       1   0     1   3        0        6           0   \n",
      "4        5  2011-01-01       1   0     1   4        0        6           0   \n",
      "5        6  2011-01-01       1   0     1   5        0        6           0   \n",
      "6        7  2011-01-01       1   0     1   6        0        6           0   \n",
      "7        8  2011-01-01       1   0     1   7        0        6           0   \n",
      "8        9  2011-01-01       1   0     1   8        0        6           0   \n",
      "9       10  2011-01-01       1   0     1   9        0        6           0   \n",
      "\n",
      "   weathersit  temp   atemp   hum  windspeed  casual  registered  cnt  \\\n",
      "0           1  0.24  0.2879  0.81     0.0000       3          13   16   \n",
      "1           1  0.22  0.2727  0.80     0.0000       8          32   40   \n",
      "2           1  0.22  0.2727  0.80     0.0000       5          27   32   \n",
      "3           1  0.24  0.2879  0.75     0.0000       3          10   13   \n",
      "4           1  0.24  0.2879  0.75     0.0000       0           1    1   \n",
      "5           2  0.24  0.2576  0.75     0.0896       0           1    1   \n",
      "6           1  0.22  0.2727  0.80     0.0000       2           0    2   \n",
      "7           1  0.20  0.2576  0.86     0.0000       1           2    3   \n",
      "8           1  0.24  0.2879  0.75     0.0000       1           7    8   \n",
      "9           1  0.32  0.3485  0.76     0.0000       8           6   14   \n",
      "\n",
      "   time_label  \n",
      "0           4  \n",
      "1           4  \n",
      "2           4  \n",
      "3           4  \n",
      "4           4  \n",
      "5           4  \n",
      "6           1  \n",
      "7           1  \n",
      "8           1  \n",
      "9           1  \n"
     ]
    }
   ],
   "source": [
    "def assign_label(hour):\n",
    "    categories = [4, 1, 2, 3]\n",
    "    return categories[hour//6] # 6-periodic\n",
    "\n",
    "bike_rentals[\"time_label\"] = bike_rentals[\"hr\"].apply(assign_label)\n",
    "print(bike_rentals.head(10))"
   ]
  },
  {
   "cell_type": "markdown",
   "metadata": {},
   "source": [
    "## 2.b Training and Predictions\n",
    "\n",
    "We first separate the training and test data set in `bike_rentals`, with $80\\%$ rows as training data.\n",
    "\n",
    "The error metric we will use is RMS, since `cnt` has various values that can be estimated using regression. If it were of binary type that is predicted using classification model, ROC AUC would be a better metric.\n",
    "\n",
    "For the list of columns to be used in training and predictions, we do not use the variables `registered` and `casual` to our ML algorithm, since the addition of both yields the value of `cnt` directly. Therefore we will exclude both columns from our ML feature columns and `cnt` (for obvious reason).\n",
    "\n",
    "Furthermore, some columns are of categorical or nominal types instead of ordinal types, which are not suitable for linear regression. Most of these have low correlation values with `cnt`, thus we can try to select columns with `corr` value more than $0.2$.\n",
    "\n",
    "Afterwards, the only categorical columns left are `instant`, `yr`, `hr`, and `time_label`. Column `instant` is not needed as it is for identification purpose, while column `hr` detail is already contained in `time_label`. Based on the dataset description, `yr` is a binary class, and thus can be included for linear regression. We can use dummy variable method to convert `time_label` to a set of binary columns."
   ]
  },
  {
   "cell_type": "code",
   "execution_count": 3,
   "metadata": {
    "collapsed": false
   },
   "outputs": [
    {
     "name": "stdout",
     "output_type": "stream",
     "text": [
      "(13903, 18)\n",
      "(3476, 18)\n"
     ]
    }
   ],
   "source": [
    "train = bike_rentals.sample(frac = 0.8)\n",
    "test = bike_rentals[~bike_rentals.index.isin(train.index)]\n",
    "print(train.shape)\n",
    "print(test.shape)"
   ]
  },
  {
   "cell_type": "code",
   "execution_count": 4,
   "metadata": {
    "collapsed": false
   },
   "outputs": [
    {
     "name": "stdout",
     "output_type": "stream",
     "text": [
      "['yr', 'temp', 'atemp', 'hum', 'tl_1', 'tl_2', 'tl_3', 'tl_4']\n"
     ]
    }
   ],
   "source": [
    "cnt_corr_table = bike_rentals.corr()[\"cnt\"]\n",
    "features = list(cnt_corr_table[np.abs(cnt_corr_table) > 0.2].index)\n",
    "features = [x for x in features if x not in [\"casual\", \"registered\", \"cnt\", \"instant\", \"hr\", \"time_label\"]]\n",
    "\n",
    "dummies = pd.get_dummies(bike_rentals[\"time_label\"], prefix = \"tl\")\n",
    "train = pd.concat([train, dummies], axis = 1) # Warning: do not re-run this line\n",
    "train.dropna(inplace = True)\n",
    "test = pd.concat([test, dummies], axis = 1)\n",
    "test.dropna(inplace = True)\n",
    "\n",
    "features.extend(list(dummies.columns))\n",
    "print(features)"
   ]
  },
  {
   "cell_type": "markdown",
   "metadata": {
    "collapsed": true
   },
   "source": [
    "## 3. Using Linear Regression"
   ]
  },
  {
   "cell_type": "code",
   "execution_count": 5,
   "metadata": {
    "collapsed": false
   },
   "outputs": [
    {
     "name": "stdout",
     "output_type": "stream",
     "text": [
      "Linear regression MSE:  17345.24881329114\n",
      "[-75.625 123.    137.875 -59.    131.5  ]\n",
      "4      1.0\n",
      "21    34.0\n",
      "23    39.0\n",
      "26     9.0\n",
      "32    20.0\n",
      "Name: cnt, dtype: float64\n"
     ]
    }
   ],
   "source": [
    "from sklearn.linear_model import LinearRegression\n",
    "from sklearn.metrics import mean_squared_error\n",
    "\n",
    "lr = LinearRegression()\n",
    "lr.fit(train[features], train[\"cnt\"])\n",
    "predictions = lr.predict(test[features])\n",
    "mse = mean_squared_error(test[\"cnt\"], predictions)\n",
    "print(\"Linear regression MSE: \", mse)\n",
    "print(predictions[:5])\n",
    "print(test[\"cnt\"].head())"
   ]
  },
  {
   "cell_type": "markdown",
   "metadata": {},
   "source": [
    "Even with a good set of features, the MSE value seems to be very high in this approach (around $17,000$). One factor may be the error due to sampling, which can be reduced by cross validation. Another factor may be that the model did not catter the fact that `cnt` values are mainly very small (reaching $0$). Nevertheless, we need a better ML model to predict `cnt`."
   ]
  },
  {
   "cell_type": "markdown",
   "metadata": {
    "collapsed": true
   },
   "source": [
    "## 4. Using Decision Tree\n",
    "\n",
    "We tweak three parameters from `DecisionTreeRegressor` that may improve the performance of our decision tree method: `max_depth`, `min_samples_split`, `min_samples_leaf`. This is because decision trees are prone to overfitting the traning data. By trial and error, we pick `max_depth` as $8$ and `min_samples_leaf` as $25$."
   ]
  },
  {
   "cell_type": "code",
   "execution_count": 6,
   "metadata": {
    "collapsed": false
   },
   "outputs": [
    {
     "name": "stdout",
     "output_type": "stream",
     "text": [
      "Decision Tree MSE:  15046.408489675172\n",
      "[ 11.18       126.60416667 126.60416667  13.7173913  142.27986348]\n",
      "4      1.0\n",
      "21    34.0\n",
      "23    39.0\n",
      "26     9.0\n",
      "32    20.0\n",
      "Name: cnt, dtype: float64\n"
     ]
    }
   ],
   "source": [
    "from sklearn.tree import DecisionTreeRegressor\n",
    "\n",
    "dtr = DecisionTreeRegressor(max_depth = 8,\n",
    "                            min_samples_split = 2,\n",
    "                            min_samples_leaf = 25)\n",
    "dtr.fit(train[features], train[\"cnt\"])\n",
    "predictions = dtr.predict(test[features])\n",
    "mse = mean_squared_error(test[\"cnt\"], predictions)\n",
    "print(\"Decision Tree MSE: \", mse)\n",
    "print(predictions[:5])\n",
    "print(test[\"cnt\"].head())"
   ]
  },
  {
   "cell_type": "markdown",
   "metadata": {
    "collapsed": true
   },
   "source": [
    "The decision tree seems to perform slightly better than linear regression. However, the number of MSE is still quite high."
   ]
  },
  {
   "cell_type": "markdown",
   "metadata": {},
   "source": [
    "## 5. Using Random Forest\n",
    "\n",
    "Random forests are still prone to overfitting, although less than decision tree due to its randomness feature. We also experimented with parameters of `RandomForestRegressor` such as `max_depth`."
   ]
  },
  {
   "cell_type": "code",
   "execution_count": 7,
   "metadata": {
    "collapsed": false
   },
   "outputs": [
    {
     "name": "stdout",
     "output_type": "stream",
     "text": [
      "Random Forest MSE:  14701.789983347044\n",
      "[ 11.67548286 122.31321365 119.88432617  11.98274481 134.4059771 ]\n",
      "4      1.0\n",
      "21    34.0\n",
      "23    39.0\n",
      "26     9.0\n",
      "32    20.0\n",
      "Name: cnt, dtype: float64\n"
     ]
    }
   ],
   "source": [
    "from sklearn.ensemble import RandomForestRegressor\n",
    "\n",
    "rfr = RandomForestRegressor(max_depth = 8,\n",
    "                            min_samples_split = 2,\n",
    "                            min_samples_leaf = 3)\n",
    "rfr.fit(train[features], train[\"cnt\"])\n",
    "predictions = rfr.predict(test[features])\n",
    "mse = mean_squared_error(test[\"cnt\"], predictions)\n",
    "print(\"Random Forest MSE: \", mse)\n",
    "print(predictions[:5])\n",
    "print(test[\"cnt\"].head())"
   ]
  },
  {
   "cell_type": "markdown",
   "metadata": {},
   "source": [
    "Random forest here works slightly better than decision tree. This might be due to feature selection, where we restricted many variables with low correlation scores."
   ]
  },
  {
   "cell_type": "markdown",
   "metadata": {},
   "source": [
    "## 6. Conclusion"
   ]
  },
  {
   "cell_type": "code",
   "execution_count": null,
   "metadata": {
    "collapsed": true
   },
   "outputs": [],
   "source": []
  },
  {
   "cell_type": "code",
   "execution_count": null,
   "metadata": {
    "collapsed": true
   },
   "outputs": [],
   "source": []
  }
 ],
 "metadata": {
  "kernelspec": {
   "display_name": "Python 3",
   "language": "python",
   "name": "python3"
  },
  "language_info": {
   "codemirror_mode": {
    "name": "ipython",
    "version": 3
   },
   "file_extension": ".py",
   "mimetype": "text/x-python",
   "name": "python",
   "nbconvert_exporter": "python",
   "pygments_lexer": "ipython3",
   "version": "3.4.3"
  }
 },
 "nbformat": 4,
 "nbformat_minor": 0
}
