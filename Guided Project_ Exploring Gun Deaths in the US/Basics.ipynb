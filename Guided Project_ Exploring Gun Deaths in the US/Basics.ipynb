{
 "cells": [
  {
   "cell_type": "markdown",
   "metadata": {},
   "source": [
    "# Guided Project: Exploring Gun Deaths in the US\n",
    "\n",
    "Goal: Finding something interesting about gun deaths in the US."
   ]
  },
  {
   "cell_type": "markdown",
   "metadata": {},
   "source": [
    "## Initializing Dataset\n",
    "\n",
    "The initial dataset is [guns.csv](https://github.com/fivethirtyeight/guns-data)."
   ]
  },
  {
   "cell_type": "code",
   "execution_count": 1,
   "metadata": {
    "collapsed": false
   },
   "outputs": [
    {
     "name": "stdout",
     "output_type": "stream",
     "text": [
      "[['', 'year', 'month', 'intent', 'police', 'sex', 'age', 'race', 'hispanic', 'place', 'education'], ['1', '2012', '01', 'Suicide', '0', 'M', '34', 'Asian/Pacific Islander', '100', 'Home', '4'], ['2', '2012', '01', 'Suicide', '0', 'F', '21', 'White', '100', 'Street', '3'], ['3', '2012', '01', 'Suicide', '0', 'M', '60', 'White', '100', 'Other specified', '4'], ['4', '2012', '02', 'Suicide', '0', 'M', '64', 'White', '100', 'Home', '4']]\n"
     ]
    }
   ],
   "source": [
    "import csv\n",
    "\n",
    "file = open(\"guns.csv\", \"r\")\n",
    "data = list(csv.reader(file))\n",
    "print(data[:5])"
   ]
  },
  {
   "cell_type": "code",
   "execution_count": 2,
   "metadata": {
    "collapsed": false
   },
   "outputs": [
    {
     "name": "stdout",
     "output_type": "stream",
     "text": [
      "Header:  ['', 'year', 'month', 'intent', 'police', 'sex', 'age', 'race', 'hispanic', 'place', 'education']\n",
      "Row:  ['1', '2012', '01', 'Suicide', '0', 'M', '34', 'Asian/Pacific Islander', '100', 'Home', '4']\n",
      "Row:  ['2', '2012', '01', 'Suicide', '0', 'F', '21', 'White', '100', 'Street', '3']\n",
      "Row:  ['3', '2012', '01', 'Suicide', '0', 'M', '60', 'White', '100', 'Other specified', '4']\n",
      "Row:  ['4', '2012', '02', 'Suicide', '0', 'M', '64', 'White', '100', 'Home', '4']\n",
      "Row:  ['5', '2012', '02', 'Suicide', '0', 'M', '31', 'White', '100', 'Other specified', '2']\n"
     ]
    }
   ],
   "source": [
    "headers = data[0]\n",
    "data = data[1:]\n",
    "\n",
    "print(\"Header: \", headers)\n",
    "for row in data[:5]:\n",
    "    print(\"Row: \", row)"
   ]
  },
  {
   "cell_type": "markdown",
   "metadata": {},
   "source": [
    "## Exploring Time Frequency\n",
    "\n",
    "We first want to check the year frequency of US gun deaths."
   ]
  },
  {
   "cell_type": "code",
   "execution_count": 3,
   "metadata": {
    "collapsed": false
   },
   "outputs": [
    {
     "name": "stdout",
     "output_type": "stream",
     "text": [
      "[('2012', 33563), ('2014', 33599), ('2013', 33636)]\n"
     ]
    }
   ],
   "source": [
    "years = [row[1] for row in data]\n",
    "\n",
    "year_counts = {}\n",
    "for y in years:\n",
    "    if y in year_counts:\n",
    "        year_counts[y] += 1\n",
    "    else:\n",
    "        year_counts[y] = 1\n",
    "print(sorted(year_counts.items(), key = lambda x: x[1]))"
   ]
  },
  {
   "cell_type": "markdown",
   "metadata": {},
   "source": [
    "The years are only 2012, 2013, and 2014, with no drastic difference of frequencies.\n",
    "\n",
    "We now check the frequencies of gun deaths within specific year and month. We create a column of `datetime` object from the year and the month in each row of `data`, and append it to the initial `data`.\n",
    "\n",
    "To make easy, we define `column_type_counts()` function which is built in similar fashion with `year_counts`, only now we can specify which column (index) we want to count."
   ]
  },
  {
   "cell_type": "code",
   "execution_count": 4,
   "metadata": {
    "collapsed": false
   },
   "outputs": [
    {
     "name": "stdout",
     "output_type": "stream",
     "text": [
      "Year  2012  month  1 :  2758\n",
      "Year  2012  month  2 :  2357\n",
      "Year  2012  month  3 :  2743\n",
      "Year  2012  month  4 :  2795\n",
      "Year  2012  month  5 :  2999\n",
      "Year  2012  month  6 :  2826\n",
      "Year  2012  month  7 :  3026\n",
      "Year  2012  month  8 :  2954\n",
      "Year  2012  month  9 :  2852\n",
      "Year  2012  month  10 :  2733\n",
      "Year  2012  month  11 :  2729\n",
      "Year  2012  month  12 :  2791\n",
      "Year  2013  month  1 :  2864\n",
      "Year  2013  month  2 :  2375\n",
      "Year  2013  month  3 :  2862\n",
      "Year  2013  month  4 :  2798\n",
      "Year  2013  month  5 :  2806\n",
      "Year  2013  month  6 :  2920\n",
      "Year  2013  month  7 :  3079\n",
      "Year  2013  month  8 :  2859\n",
      "Year  2013  month  9 :  2742\n",
      "Year  2013  month  10 :  2808\n",
      "Year  2013  month  11 :  2758\n",
      "Year  2013  month  12 :  2765\n",
      "Year  2014  month  1 :  2651\n",
      "Year  2014  month  2 :  2361\n",
      "Year  2014  month  3 :  2684\n",
      "Year  2014  month  4 :  2862\n",
      "Year  2014  month  5 :  2864\n",
      "Year  2014  month  6 :  2931\n",
      "Year  2014  month  7 :  2884\n",
      "Year  2014  month  8 :  2970\n",
      "Year  2014  month  9 :  2914\n",
      "Year  2014  month  10 :  2865\n",
      "Year  2014  month  11 :  2756\n",
      "Year  2014  month  12 :  2857\n"
     ]
    }
   ],
   "source": [
    "import datetime\n",
    "\n",
    "for row in data:\n",
    "    yr = int(row[1]) # The row entry is of type string - convert to int\n",
    "    mo = int(row[2])\n",
    "    row.append(datetime.datetime(year = yr, month = mo, day = 1))\n",
    "\n",
    "# Create a function column_type_ counts, similar code to year_counts\n",
    "def column_type_counts(dataset, index):\n",
    "    column = [row[index] for row in dataset]\n",
    "    result = {}\n",
    "    for entry in column:\n",
    "        if entry in result:\n",
    "            result[entry] += 1\n",
    "        else:\n",
    "            result[entry] = 1\n",
    "    return result\n",
    "            \n",
    "# Now, back to date_counts\n",
    "date_counts = column_type_counts(data, -1)\n",
    "for key, val in sorted(date_counts.items()):\n",
    "    print(\"Year \", key.year, \" month \", key.month, \": \", val)"
   ]
  },
  {
   "cell_type": "markdown",
   "metadata": {},
   "source": [
    "The numbers here also seem quite stable. Interestingly, the number of gun deaths in February is significantly lower than the other months. Additionally, the gun death number in the summer period (month 6-8) seems to be higher."
   ]
  },
  {
   "cell_type": "markdown",
   "metadata": {},
   "source": [
    "## Exploring Sex and Race Frequencies\n",
    "\n",
    "We now explore the counts of sex and race categories. We reuse the function `column_type_counts()`, taking into account that column `sex` and `race` has an index of 5 and 7, respectively."
   ]
  },
  {
   "cell_type": "code",
   "execution_count": 5,
   "metadata": {
    "collapsed": false
   },
   "outputs": [
    {
     "name": "stdout",
     "output_type": "stream",
     "text": [
      "[('F', 14449), ('M', 86349)]\n",
      "[('Asian/Pacific Islander', 1326), ('Black', 23296), ('Hispanic', 9022), ('Native American/Native Alaskan', 917), ('White', 66237)]\n"
     ]
    }
   ],
   "source": [
    "sex_counts = column_type_counts(data, 5)\n",
    "race_counts = column_type_counts(data, 7)\n",
    "print(sorted(sex_counts.items()))\n",
    "print(sorted(race_counts.items()))"
   ]
  },
  {
   "cell_type": "markdown",
   "metadata": {},
   "source": [
    "There are several patterns observed:\n",
    "1. Significantly more males have gun deaths (~80%) than females.\n",
    "2. White race has the most gun deaths (66237), followed by Black race (23296), and Hispanic (9022), while the total rest are less than 2300.\n",
    "3. Further examination might be how much the suicide rates is, age distribution, education distribution, and places of death."
   ]
  },
  {
   "cell_type": "markdown",
   "metadata": {},
   "source": [
    "## Counting Average Gun Deaths per 100,000 people on Each Race\n",
    "\n",
    "The number of gun deaths for each race is not descriptive enough compared to the average number of gun deaths for each race, which seems closer to the idea of chance that a random person with a particular race in the US is a gun death victim.\n",
    "\n",
    "We need more information about the number of US total populations for each race. We get this new data from [census.csv (link is not given)]()."
   ]
  },
  {
   "cell_type": "code",
   "execution_count": 6,
   "metadata": {
    "collapsed": false
   },
   "outputs": [
    {
     "name": "stdout",
     "output_type": "stream",
     "text": [
      "Row:  ['Id', 'Year', 'Id', 'Sex', 'Id', 'Hispanic Origin', 'Id', 'Id2', 'Geography', 'Total', 'Race Alone - White', 'Race Alone - Hispanic', 'Race Alone - Black or African American', 'Race Alone - American Indian and Alaska Native', 'Race Alone - Asian', 'Race Alone - Native Hawaiian and Other Pacific Islander', 'Two or More Races']\n",
      "Row:  ['cen42010', 'April 1, 2010 Census', 'totsex', 'Both Sexes', 'tothisp', 'Total', '0100000US', '', 'United States', '308745538', '197318956', '44618105', '40250635', '3739506', '15159516', '674625', '6984195']\n"
     ]
    }
   ],
   "source": [
    "import csv\n",
    "\n",
    "census_file = open(\"census.csv\", \"r\")\n",
    "census = list(csv.reader(census_file))\n",
    "for row in census:\n",
    "    print(\"Row: \", row)"
   ]
  },
  {
   "cell_type": "markdown",
   "metadata": {},
   "source": [
    "We manually enter this data into a dictionary `mapping`. Then, a new variabe of dictionary `race_per_hundredk` is created to store the average number of deaths per 100,000 persons of each race in the US."
   ]
  },
  {
   "cell_type": "code",
   "execution_count": 7,
   "metadata": {
    "collapsed": false
   },
   "outputs": [
    {
     "name": "stdout",
     "output_type": "stream",
     "text": [
      "[('Black', 57.8773477735196), ('White', 33.56849303419181), ('Native American/Native Alaskan', 24.521955573811088), ('Hispanic', 20.220491210910907), ('Asian/Pacific Islander', 8.374309664161762)]\n"
     ]
    }
   ],
   "source": [
    "mapping = {\"White\" : 197318956,\n",
    "           \"Hispanic\" : 44618105,\n",
    "           \"Black\" : 40250635,\n",
    "           \"Native American/Native Alaskan\" : 3739506 ,\n",
    "           \"Asian/Pacific Islander\" : 15159516 + 674625}\n",
    "race_per_hundredk = {}\n",
    "for key in mapping:\n",
    "    race_per_hundredk[key] = race_counts[key]/mapping[key]*100000\n",
    "\n",
    "# Print race_per_hundredk by decreasing values\n",
    "print(sorted(race_per_hundredk.items(), key = lambda x: x[1], reverse = True))"
   ]
  },
  {
   "cell_type": "markdown",
   "metadata": {},
   "source": [
    "## Counting Average Gun Deaths per 100,000 people on Each Race: Homicide Version\n",
    "\n",
    "We select a sub-dataset of the original `data` which has `'intent'` equals to \"Homicide\", and put them as `homicide_data`. Then we process  `homicide_data` to get `homicide_race_per_hundredk`, similar to our previous works."
   ]
  },
  {
   "cell_type": "code",
   "execution_count": 8,
   "metadata": {
    "collapsed": false
   },
   "outputs": [
    {
     "name": "stdout",
     "output_type": "stream",
     "text": [
      "Average homicide gun death counts per 100,000 based on race:\n",
      "\n",
      "[('Black', 48.471284987180944), ('Hispanic', 12.627161104219914), ('Native American/Native Alaskan', 8.717729026240365), ('White', 4.6356417981453335), ('Asian/Pacific Islander', 3.530346230970155)]\n"
     ]
    }
   ],
   "source": [
    "homicide_data = [row for row in data if row[3] == \"Homicide\"]\n",
    "homicide_race_counts = column_type_counts(homicide_data, 7)\n",
    "\n",
    "# Not needed at the moment:\n",
    "#print(\"Homicide gun death counts based on race:\\n\")\n",
    "#print(sorted(homicide_race_counts.items()), \"\\n\")\n",
    "\n",
    "homicide_race_per_hundredk = {}\n",
    "for key in mapping:\n",
    "    homicide_race_per_hundredk[key] = homicide_race_counts[key]/mapping[key]*100000\n",
    "\n",
    "print(\"Average homicide gun death counts per 100,000 based on race:\\n\")\n",
    "print(sorted(homicide_race_per_hundredk.items(), key = lambda x: x[1], reverse = True))"
   ]
  },
  {
   "cell_type": "markdown",
   "metadata": {},
   "source": [
    "From above, it can be seen that for homocide cases, the race with the largest average gun deaths (per 100,000 people) in the US is Black, followed by Hispanic and Native American/Native Alaskan.\n",
    "\n",
    "If we compare the average counts for all US gun deaths versus Homicide US gun deaths, there is a trend between Black versus White races. Although both races are listed as the top two in death frequencies (58% and 36%), 83.75% of US Black victims' deaths are due to Homicide; while in stark contrast, only 13.81% of US White victims' deaths are due to Homicide."
   ]
  },
  {
   "cell_type": "markdown",
   "metadata": {
    "collapsed": true
   },
   "source": [
    "# Conclusion\n",
    "\n"
   ]
  }
 ],
 "metadata": {
  "kernelspec": {
   "display_name": "Python 3",
   "language": "python",
   "name": "python3"
  },
  "language_info": {
   "codemirror_mode": {
    "name": "ipython",
    "version": 3
   },
   "file_extension": ".py",
   "mimetype": "text/x-python",
   "name": "python",
   "nbconvert_exporter": "python",
   "pygments_lexer": "ipython3",
   "version": "3.4.3"
  }
 },
 "nbformat": 4,
 "nbformat_minor": 0
}
